{
 "cells": [
  {
   "cell_type": "markdown",
   "id": "9a400699-ee41-4bee-a113-44918a464c07",
   "metadata": {},
   "source": [
    "#  Step 1: Importing Required Libraries\n",
    "\n",
    "In this first step, we import the necessary Python libraries:\n",
    "\n",
    "- **pandas**: For data manipulation and analysis.\n",
    "- **matplotlib** & **seaborn**: For creating static data visualizations.\n",
    "- **plotly.express**: For creating interactive plots like choropleth maps.\n",
    "- **datetime**: For working with and formatting dates.\n",
    "\n",
    "We also set a global visualization style using Seaborn’s `darkgrid` to keep our plots consistent and visually appealing throughout the notebook.\n"
   ]
  },
  {
   "cell_type": "code",
   "execution_count": 62,
   "id": "c2e5bb6b-a896-43c6-8574-1b63e82aac01",
   "metadata": {},
   "outputs": [],
   "source": [
    "# Importing Required Libraries\n",
    "import pandas as pd\n",
    "import matplotlib.pyplot as plt\n",
    "import seaborn as sns\n",
    "import plotly.express as px\n",
    "from datetime import datetime\n",
    "import warnings\n",
    "warnings.simplefilter(action='ignore', category=FutureWarning)\n",
    "# Set plot style\n",
    "sns.set(style=\"darkgrid\")\n"
   ]
  },
  {
   "cell_type": "markdown",
   "id": "7d7e1d5e-4822-46a0-92cc-86cda1fdd1f7",
   "metadata": {},
   "source": [
    "##  Step 2: Load the COVID-19 Dataset\n",
    "\n",
    "We load the cleaned COVID-19 dataset from **Our World in Data** using `pandas.read_csv()`. This dataset contains global information on:\n",
    "\n",
    "- Total and new COVID-19 cases\n",
    "- Deaths\n",
    "- Vaccinations\n",
    "- Testing\n",
    "- Hospitalizations and more\n"
   ]
  },
  {
   "cell_type": "code",
   "execution_count": 63,
   "id": "1fd9d9fa-71e1-44a0-a722-31f5d0f46609",
   "metadata": {},
   "outputs": [],
   "source": [
    "# Step 2: Load the Dataset\n",
    "# Dataset: Our World in Data COVID-19 data\n",
    "file_path = \"data/owid-covid-data.csv\"  \n",
    "df = pd.read_csv(file_path)\n",
    "\n"
   ]
  },
  {
   "cell_type": "markdown",
   "id": "5c3b3f19-2320-4e1a-9216-08006d2cf771",
   "metadata": {},
   "source": [
    "##  Step 3: Initial Data Exploration\n",
    "\n",
    "We inspect the dataset by:\n",
    "\n",
    "- Checking the shape (rows and columns)\n",
    "- Viewing all column names\n",
    "- Displaying the first few rows using `head()`\n",
    "\n",
    "This helps us understand the dataset's structure and spot important fields like `total_cases`, `date`, and `location`.\n"
   ]
  },
  {
   "cell_type": "code",
   "execution_count": 64,
   "id": "ac19a507-d1c8-42ad-8fed-7221ee53b8e8",
   "metadata": {},
   "outputs": [
    {
     "name": "stdout",
     "output_type": "stream",
     "text": [
      "DataFrame Shape: (302512, 67)\n",
      "\n",
      "Column Names:\n",
      " ['iso_code', 'continent', 'location', 'date', 'total_cases', 'new_cases', 'new_cases_smoothed', 'total_deaths', 'new_deaths', 'new_deaths_smoothed', 'total_cases_per_million', 'new_cases_per_million', 'new_cases_smoothed_per_million', 'total_deaths_per_million', 'new_deaths_per_million', 'new_deaths_smoothed_per_million', 'reproduction_rate', 'icu_patients', 'icu_patients_per_million', 'hosp_patients', 'hosp_patients_per_million', 'weekly_icu_admissions', 'weekly_icu_admissions_per_million', 'weekly_hosp_admissions', 'weekly_hosp_admissions_per_million', 'total_tests', 'new_tests', 'total_tests_per_thousand', 'new_tests_per_thousand', 'new_tests_smoothed', 'new_tests_smoothed_per_thousand', 'positive_rate', 'tests_per_case', 'tests_units', 'total_vaccinations', 'people_vaccinated', 'people_fully_vaccinated', 'total_boosters', 'new_vaccinations', 'new_vaccinations_smoothed', 'total_vaccinations_per_hundred', 'people_vaccinated_per_hundred', 'people_fully_vaccinated_per_hundred', 'total_boosters_per_hundred', 'new_vaccinations_smoothed_per_million', 'new_people_vaccinated_smoothed', 'new_people_vaccinated_smoothed_per_hundred', 'stringency_index', 'population_density', 'median_age', 'aged_65_older', 'aged_70_older', 'gdp_per_capita', 'extreme_poverty', 'cardiovasc_death_rate', 'diabetes_prevalence', 'female_smokers', 'male_smokers', 'handwashing_facilities', 'hospital_beds_per_thousand', 'life_expectancy', 'human_development_index', 'population', 'excess_mortality_cumulative_absolute', 'excess_mortality_cumulative', 'excess_mortality', 'excess_mortality_cumulative_per_million']\n"
     ]
    }
   ],
   "source": [
    "#  Explore the DataFrame\n",
    "print(\"DataFrame Shape:\", df.shape)\n",
    "print(\"\\nColumn Names:\\n\", df.columns.tolist())\n",
    "\n"
   ]
  },
  {
   "cell_type": "code",
   "execution_count": 65,
   "id": "ecd133b5-8d9d-4a2c-8a86-de387999f828",
   "metadata": {},
   "outputs": [
    {
     "data": {
      "text/html": [
       "<div>\n",
       "<style scoped>\n",
       "    .dataframe tbody tr th:only-of-type {\n",
       "        vertical-align: middle;\n",
       "    }\n",
       "\n",
       "    .dataframe tbody tr th {\n",
       "        vertical-align: top;\n",
       "    }\n",
       "\n",
       "    .dataframe thead th {\n",
       "        text-align: right;\n",
       "    }\n",
       "</style>\n",
       "<table border=\"1\" class=\"dataframe\">\n",
       "  <thead>\n",
       "    <tr style=\"text-align: right;\">\n",
       "      <th></th>\n",
       "      <th>iso_code</th>\n",
       "      <th>continent</th>\n",
       "      <th>location</th>\n",
       "      <th>date</th>\n",
       "      <th>total_cases</th>\n",
       "      <th>new_cases</th>\n",
       "      <th>new_cases_smoothed</th>\n",
       "      <th>total_deaths</th>\n",
       "      <th>new_deaths</th>\n",
       "      <th>new_deaths_smoothed</th>\n",
       "      <th>...</th>\n",
       "      <th>male_smokers</th>\n",
       "      <th>handwashing_facilities</th>\n",
       "      <th>hospital_beds_per_thousand</th>\n",
       "      <th>life_expectancy</th>\n",
       "      <th>human_development_index</th>\n",
       "      <th>population</th>\n",
       "      <th>excess_mortality_cumulative_absolute</th>\n",
       "      <th>excess_mortality_cumulative</th>\n",
       "      <th>excess_mortality</th>\n",
       "      <th>excess_mortality_cumulative_per_million</th>\n",
       "    </tr>\n",
       "  </thead>\n",
       "  <tbody>\n",
       "    <tr>\n",
       "      <th>0</th>\n",
       "      <td>AFG</td>\n",
       "      <td>Asia</td>\n",
       "      <td>Afghanistan</td>\n",
       "      <td>2020-01-03</td>\n",
       "      <td>NaN</td>\n",
       "      <td>0.0</td>\n",
       "      <td>NaN</td>\n",
       "      <td>NaN</td>\n",
       "      <td>0.0</td>\n",
       "      <td>NaN</td>\n",
       "      <td>...</td>\n",
       "      <td>NaN</td>\n",
       "      <td>37.746</td>\n",
       "      <td>0.5</td>\n",
       "      <td>64.83</td>\n",
       "      <td>0.511</td>\n",
       "      <td>41128772.0</td>\n",
       "      <td>NaN</td>\n",
       "      <td>NaN</td>\n",
       "      <td>NaN</td>\n",
       "      <td>NaN</td>\n",
       "    </tr>\n",
       "    <tr>\n",
       "      <th>1</th>\n",
       "      <td>AFG</td>\n",
       "      <td>Asia</td>\n",
       "      <td>Afghanistan</td>\n",
       "      <td>2020-01-04</td>\n",
       "      <td>NaN</td>\n",
       "      <td>0.0</td>\n",
       "      <td>NaN</td>\n",
       "      <td>NaN</td>\n",
       "      <td>0.0</td>\n",
       "      <td>NaN</td>\n",
       "      <td>...</td>\n",
       "      <td>NaN</td>\n",
       "      <td>37.746</td>\n",
       "      <td>0.5</td>\n",
       "      <td>64.83</td>\n",
       "      <td>0.511</td>\n",
       "      <td>41128772.0</td>\n",
       "      <td>NaN</td>\n",
       "      <td>NaN</td>\n",
       "      <td>NaN</td>\n",
       "      <td>NaN</td>\n",
       "    </tr>\n",
       "    <tr>\n",
       "      <th>2</th>\n",
       "      <td>AFG</td>\n",
       "      <td>Asia</td>\n",
       "      <td>Afghanistan</td>\n",
       "      <td>2020-01-05</td>\n",
       "      <td>NaN</td>\n",
       "      <td>0.0</td>\n",
       "      <td>NaN</td>\n",
       "      <td>NaN</td>\n",
       "      <td>0.0</td>\n",
       "      <td>NaN</td>\n",
       "      <td>...</td>\n",
       "      <td>NaN</td>\n",
       "      <td>37.746</td>\n",
       "      <td>0.5</td>\n",
       "      <td>64.83</td>\n",
       "      <td>0.511</td>\n",
       "      <td>41128772.0</td>\n",
       "      <td>NaN</td>\n",
       "      <td>NaN</td>\n",
       "      <td>NaN</td>\n",
       "      <td>NaN</td>\n",
       "    </tr>\n",
       "    <tr>\n",
       "      <th>3</th>\n",
       "      <td>AFG</td>\n",
       "      <td>Asia</td>\n",
       "      <td>Afghanistan</td>\n",
       "      <td>2020-01-06</td>\n",
       "      <td>NaN</td>\n",
       "      <td>0.0</td>\n",
       "      <td>NaN</td>\n",
       "      <td>NaN</td>\n",
       "      <td>0.0</td>\n",
       "      <td>NaN</td>\n",
       "      <td>...</td>\n",
       "      <td>NaN</td>\n",
       "      <td>37.746</td>\n",
       "      <td>0.5</td>\n",
       "      <td>64.83</td>\n",
       "      <td>0.511</td>\n",
       "      <td>41128772.0</td>\n",
       "      <td>NaN</td>\n",
       "      <td>NaN</td>\n",
       "      <td>NaN</td>\n",
       "      <td>NaN</td>\n",
       "    </tr>\n",
       "    <tr>\n",
       "      <th>4</th>\n",
       "      <td>AFG</td>\n",
       "      <td>Asia</td>\n",
       "      <td>Afghanistan</td>\n",
       "      <td>2020-01-07</td>\n",
       "      <td>NaN</td>\n",
       "      <td>0.0</td>\n",
       "      <td>NaN</td>\n",
       "      <td>NaN</td>\n",
       "      <td>0.0</td>\n",
       "      <td>NaN</td>\n",
       "      <td>...</td>\n",
       "      <td>NaN</td>\n",
       "      <td>37.746</td>\n",
       "      <td>0.5</td>\n",
       "      <td>64.83</td>\n",
       "      <td>0.511</td>\n",
       "      <td>41128772.0</td>\n",
       "      <td>NaN</td>\n",
       "      <td>NaN</td>\n",
       "      <td>NaN</td>\n",
       "      <td>NaN</td>\n",
       "    </tr>\n",
       "  </tbody>\n",
       "</table>\n",
       "<p>5 rows × 67 columns</p>\n",
       "</div>"
      ],
      "text/plain": [
       "  iso_code continent     location        date  total_cases  new_cases  \\\n",
       "0      AFG      Asia  Afghanistan  2020-01-03          NaN        0.0   \n",
       "1      AFG      Asia  Afghanistan  2020-01-04          NaN        0.0   \n",
       "2      AFG      Asia  Afghanistan  2020-01-05          NaN        0.0   \n",
       "3      AFG      Asia  Afghanistan  2020-01-06          NaN        0.0   \n",
       "4      AFG      Asia  Afghanistan  2020-01-07          NaN        0.0   \n",
       "\n",
       "   new_cases_smoothed  total_deaths  new_deaths  new_deaths_smoothed  ...  \\\n",
       "0                 NaN           NaN         0.0                  NaN  ...   \n",
       "1                 NaN           NaN         0.0                  NaN  ...   \n",
       "2                 NaN           NaN         0.0                  NaN  ...   \n",
       "3                 NaN           NaN         0.0                  NaN  ...   \n",
       "4                 NaN           NaN         0.0                  NaN  ...   \n",
       "\n",
       "   male_smokers  handwashing_facilities  hospital_beds_per_thousand  \\\n",
       "0           NaN                  37.746                         0.5   \n",
       "1           NaN                  37.746                         0.5   \n",
       "2           NaN                  37.746                         0.5   \n",
       "3           NaN                  37.746                         0.5   \n",
       "4           NaN                  37.746                         0.5   \n",
       "\n",
       "   life_expectancy  human_development_index  population  \\\n",
       "0            64.83                    0.511  41128772.0   \n",
       "1            64.83                    0.511  41128772.0   \n",
       "2            64.83                    0.511  41128772.0   \n",
       "3            64.83                    0.511  41128772.0   \n",
       "4            64.83                    0.511  41128772.0   \n",
       "\n",
       "   excess_mortality_cumulative_absolute  excess_mortality_cumulative  \\\n",
       "0                                   NaN                          NaN   \n",
       "1                                   NaN                          NaN   \n",
       "2                                   NaN                          NaN   \n",
       "3                                   NaN                          NaN   \n",
       "4                                   NaN                          NaN   \n",
       "\n",
       "   excess_mortality  excess_mortality_cumulative_per_million  \n",
       "0               NaN                                      NaN  \n",
       "1               NaN                                      NaN  \n",
       "2               NaN                                      NaN  \n",
       "3               NaN                                      NaN  \n",
       "4               NaN                                      NaN  \n",
       "\n",
       "[5 rows x 67 columns]"
      ]
     },
     "execution_count": 65,
     "metadata": {},
     "output_type": "execute_result"
    }
   ],
   "source": [
    "# Preview top rows\n",
    "df.head()"
   ]
  },
  {
   "cell_type": "markdown",
   "id": "29e62503-2fb7-4294-866b-645b96a3d5b1",
   "metadata": {},
   "source": [
    "##  Step 4: Identify Missing Data\n",
    "\n",
    "Many real-world datasets include missing values. Here, we calculate:\n",
    "\n",
    "- Total missing values in each column\n",
    "- Sorted in descending order\n",
    "\n",
    "We will later handle these missing values before performing analysis.\n"
   ]
  },
  {
   "cell_type": "code",
   "execution_count": 66,
   "id": "1536270e-02eb-4c89-888d-54a28d2e1d30",
   "metadata": {},
   "outputs": [
    {
     "data": {
      "text/plain": [
       "weekly_icu_admissions                      293411\n",
       "weekly_icu_admissions_per_million          293411\n",
       "excess_mortality_cumulative_absolute       292217\n",
       "excess_mortality_cumulative_per_million    292217\n",
       "excess_mortality_cumulative                292217\n",
       "excess_mortality                           292217\n",
       "weekly_hosp_admissions_per_million         281225\n",
       "weekly_hosp_admissions                     281225\n",
       "icu_patients_per_million                   267748\n",
       "icu_patients                               267748\n",
       "hosp_patients_per_million                  267374\n",
       "hosp_patients                              267374\n",
       "total_boosters                             260188\n",
       "total_boosters_per_hundred                 260188\n",
       "new_vaccinations                           241970\n",
       "people_fully_vaccinated                    234363\n",
       "people_fully_vaccinated_per_hundred        234363\n",
       "people_vaccinated                          232101\n",
       "people_vaccinated_per_hundred              232101\n",
       "total_vaccinations_per_hundred             228951\n",
       "dtype: int64"
      ]
     },
     "execution_count": 66,
     "metadata": {},
     "output_type": "execute_result"
    }
   ],
   "source": [
    "# Check for missing values\n",
    "missing_values = df.isnull().sum().sort_values(ascending=False)\n",
    "missing_values[missing_values > 0].head(20)\n"
   ]
  },
  {
   "cell_type": "markdown",
   "id": "07981ac7-a339-4d04-b403-bdb77ad63a08",
   "metadata": {},
   "source": [
    "## Step 5: Convert Date Column\n",
    "\n",
    "To enable time-series analysis, we convert the `date` column from string format to a proper `datetime` object using `pd.to_datetime()`.\n"
   ]
  },
  {
   "cell_type": "code",
   "execution_count": 67,
   "id": "f5f09fa3-76bb-47a2-9e4c-2ec4c9330e11",
   "metadata": {},
   "outputs": [],
   "source": [
    "# Convert the 'date' column to datetime format\n",
    "df['date'] = pd.to_datetime(df['date'])\n"
   ]
  },
  {
   "cell_type": "markdown",
   "id": "83eab8b8-f9f8-47e9-bd98-411575675551",
   "metadata": {},
   "source": [
    "## Step 6: Filter Countries for Analysis\n",
    "\n",
    "We limit our analysis to a selection of countries with varying pandemic experiences:\n",
    "\n",
    "- Kenya (Africa)\n",
    "- India (Asia)\n",
    "- United States (North America)\n",
    "- Brazil (South America)\n",
    "- Germany (Europe)\n",
    "\n",
    "This diversity gives us global perspective.\n"
   ]
  },
  {
   "cell_type": "code",
   "execution_count": 68,
   "id": "e8cf14a4-4bc2-43bc-9b40-fa6468ed9293",
   "metadata": {},
   "outputs": [],
   "source": [
    "# Filter for countries of interest\n",
    "countries = [\"Kenya\", \"India\", \"United States\", \"Brazil\", \"Germany\"]\n",
    "df_filtered = df[df[\"location\"].isin(countries)]\n"
   ]
  },
  {
   "cell_type": "code",
   "execution_count": 69,
   "id": "efd23ec3-0236-4366-9637-a4b3f41ed853",
   "metadata": {},
   "outputs": [
    {
     "data": {
      "text/html": [
       "<div>\n",
       "<style scoped>\n",
       "    .dataframe tbody tr th:only-of-type {\n",
       "        vertical-align: middle;\n",
       "    }\n",
       "\n",
       "    .dataframe tbody tr th {\n",
       "        vertical-align: top;\n",
       "    }\n",
       "\n",
       "    .dataframe thead th {\n",
       "        text-align: right;\n",
       "    }\n",
       "</style>\n",
       "<table border=\"1\" class=\"dataframe\">\n",
       "  <thead>\n",
       "    <tr style=\"text-align: right;\">\n",
       "      <th></th>\n",
       "      <th>iso_code</th>\n",
       "      <th>continent</th>\n",
       "      <th>location</th>\n",
       "      <th>date</th>\n",
       "      <th>total_cases</th>\n",
       "      <th>new_cases</th>\n",
       "      <th>new_cases_smoothed</th>\n",
       "      <th>total_deaths</th>\n",
       "      <th>new_deaths</th>\n",
       "      <th>new_deaths_smoothed</th>\n",
       "      <th>...</th>\n",
       "      <th>male_smokers</th>\n",
       "      <th>handwashing_facilities</th>\n",
       "      <th>hospital_beds_per_thousand</th>\n",
       "      <th>life_expectancy</th>\n",
       "      <th>human_development_index</th>\n",
       "      <th>population</th>\n",
       "      <th>excess_mortality_cumulative_absolute</th>\n",
       "      <th>excess_mortality_cumulative</th>\n",
       "      <th>excess_mortality</th>\n",
       "      <th>excess_mortality_cumulative_per_million</th>\n",
       "    </tr>\n",
       "  </thead>\n",
       "  <tbody>\n",
       "    <tr>\n",
       "      <th>35882</th>\n",
       "      <td>BRA</td>\n",
       "      <td>South America</td>\n",
       "      <td>Brazil</td>\n",
       "      <td>2020-01-03</td>\n",
       "      <td>NaN</td>\n",
       "      <td>0.0</td>\n",
       "      <td>NaN</td>\n",
       "      <td>NaN</td>\n",
       "      <td>0.0</td>\n",
       "      <td>NaN</td>\n",
       "      <td>...</td>\n",
       "      <td>17.9</td>\n",
       "      <td>NaN</td>\n",
       "      <td>2.2</td>\n",
       "      <td>75.88</td>\n",
       "      <td>0.765</td>\n",
       "      <td>215313504.0</td>\n",
       "      <td>NaN</td>\n",
       "      <td>NaN</td>\n",
       "      <td>NaN</td>\n",
       "      <td>NaN</td>\n",
       "    </tr>\n",
       "    <tr>\n",
       "      <th>35883</th>\n",
       "      <td>BRA</td>\n",
       "      <td>South America</td>\n",
       "      <td>Brazil</td>\n",
       "      <td>2020-01-04</td>\n",
       "      <td>NaN</td>\n",
       "      <td>0.0</td>\n",
       "      <td>NaN</td>\n",
       "      <td>NaN</td>\n",
       "      <td>0.0</td>\n",
       "      <td>NaN</td>\n",
       "      <td>...</td>\n",
       "      <td>17.9</td>\n",
       "      <td>NaN</td>\n",
       "      <td>2.2</td>\n",
       "      <td>75.88</td>\n",
       "      <td>0.765</td>\n",
       "      <td>215313504.0</td>\n",
       "      <td>NaN</td>\n",
       "      <td>NaN</td>\n",
       "      <td>NaN</td>\n",
       "      <td>NaN</td>\n",
       "    </tr>\n",
       "    <tr>\n",
       "      <th>35884</th>\n",
       "      <td>BRA</td>\n",
       "      <td>South America</td>\n",
       "      <td>Brazil</td>\n",
       "      <td>2020-01-05</td>\n",
       "      <td>NaN</td>\n",
       "      <td>0.0</td>\n",
       "      <td>NaN</td>\n",
       "      <td>NaN</td>\n",
       "      <td>0.0</td>\n",
       "      <td>NaN</td>\n",
       "      <td>...</td>\n",
       "      <td>17.9</td>\n",
       "      <td>NaN</td>\n",
       "      <td>2.2</td>\n",
       "      <td>75.88</td>\n",
       "      <td>0.765</td>\n",
       "      <td>215313504.0</td>\n",
       "      <td>NaN</td>\n",
       "      <td>NaN</td>\n",
       "      <td>NaN</td>\n",
       "      <td>NaN</td>\n",
       "    </tr>\n",
       "    <tr>\n",
       "      <th>35885</th>\n",
       "      <td>BRA</td>\n",
       "      <td>South America</td>\n",
       "      <td>Brazil</td>\n",
       "      <td>2020-01-06</td>\n",
       "      <td>NaN</td>\n",
       "      <td>0.0</td>\n",
       "      <td>NaN</td>\n",
       "      <td>NaN</td>\n",
       "      <td>0.0</td>\n",
       "      <td>NaN</td>\n",
       "      <td>...</td>\n",
       "      <td>17.9</td>\n",
       "      <td>NaN</td>\n",
       "      <td>2.2</td>\n",
       "      <td>75.88</td>\n",
       "      <td>0.765</td>\n",
       "      <td>215313504.0</td>\n",
       "      <td>NaN</td>\n",
       "      <td>NaN</td>\n",
       "      <td>NaN</td>\n",
       "      <td>NaN</td>\n",
       "    </tr>\n",
       "    <tr>\n",
       "      <th>35886</th>\n",
       "      <td>BRA</td>\n",
       "      <td>South America</td>\n",
       "      <td>Brazil</td>\n",
       "      <td>2020-01-07</td>\n",
       "      <td>NaN</td>\n",
       "      <td>0.0</td>\n",
       "      <td>NaN</td>\n",
       "      <td>NaN</td>\n",
       "      <td>0.0</td>\n",
       "      <td>NaN</td>\n",
       "      <td>...</td>\n",
       "      <td>17.9</td>\n",
       "      <td>NaN</td>\n",
       "      <td>2.2</td>\n",
       "      <td>75.88</td>\n",
       "      <td>0.765</td>\n",
       "      <td>215313504.0</td>\n",
       "      <td>NaN</td>\n",
       "      <td>NaN</td>\n",
       "      <td>NaN</td>\n",
       "      <td>NaN</td>\n",
       "    </tr>\n",
       "  </tbody>\n",
       "</table>\n",
       "<p>5 rows × 67 columns</p>\n",
       "</div>"
      ],
      "text/plain": [
       "      iso_code      continent location       date  total_cases  new_cases  \\\n",
       "35882      BRA  South America   Brazil 2020-01-03          NaN        0.0   \n",
       "35883      BRA  South America   Brazil 2020-01-04          NaN        0.0   \n",
       "35884      BRA  South America   Brazil 2020-01-05          NaN        0.0   \n",
       "35885      BRA  South America   Brazil 2020-01-06          NaN        0.0   \n",
       "35886      BRA  South America   Brazil 2020-01-07          NaN        0.0   \n",
       "\n",
       "       new_cases_smoothed  total_deaths  new_deaths  new_deaths_smoothed  ...  \\\n",
       "35882                 NaN           NaN         0.0                  NaN  ...   \n",
       "35883                 NaN           NaN         0.0                  NaN  ...   \n",
       "35884                 NaN           NaN         0.0                  NaN  ...   \n",
       "35885                 NaN           NaN         0.0                  NaN  ...   \n",
       "35886                 NaN           NaN         0.0                  NaN  ...   \n",
       "\n",
       "       male_smokers  handwashing_facilities  hospital_beds_per_thousand  \\\n",
       "35882          17.9                     NaN                         2.2   \n",
       "35883          17.9                     NaN                         2.2   \n",
       "35884          17.9                     NaN                         2.2   \n",
       "35885          17.9                     NaN                         2.2   \n",
       "35886          17.9                     NaN                         2.2   \n",
       "\n",
       "       life_expectancy  human_development_index   population  \\\n",
       "35882            75.88                    0.765  215313504.0   \n",
       "35883            75.88                    0.765  215313504.0   \n",
       "35884            75.88                    0.765  215313504.0   \n",
       "35885            75.88                    0.765  215313504.0   \n",
       "35886            75.88                    0.765  215313504.0   \n",
       "\n",
       "       excess_mortality_cumulative_absolute  excess_mortality_cumulative  \\\n",
       "35882                                   NaN                          NaN   \n",
       "35883                                   NaN                          NaN   \n",
       "35884                                   NaN                          NaN   \n",
       "35885                                   NaN                          NaN   \n",
       "35886                                   NaN                          NaN   \n",
       "\n",
       "       excess_mortality  excess_mortality_cumulative_per_million  \n",
       "35882               NaN                                      NaN  \n",
       "35883               NaN                                      NaN  \n",
       "35884               NaN                                      NaN  \n",
       "35885               NaN                                      NaN  \n",
       "35886               NaN                                      NaN  \n",
       "\n",
       "[5 rows x 67 columns]"
      ]
     },
     "execution_count": 69,
     "metadata": {},
     "output_type": "execute_result"
    }
   ],
   "source": [
    "df_filtered.head()"
   ]
  },
  {
   "cell_type": "markdown",
   "id": "d057954a-b191-41a6-a862-de854be66a42",
   "metadata": {},
   "source": [
    "## Step 7: Handle Missing Values\n",
    "\n",
    "We use **forward fill (`ffill`)** and **backward fill (`bfill`)** within each country to fill missing numeric values such as cases or deaths. This is suitable for time series data where missing values often represent \"no update\" rather than true null.\n"
   ]
  },
  {
   "cell_type": "code",
   "execution_count": 70,
   "id": "cf6d3e95-6280-43b8-a3be-0026d2a77c95",
   "metadata": {},
   "outputs": [
    {
     "name": "stderr",
     "output_type": "stream",
     "text": [
      "C:\\Users\\Admin\\AppData\\Local\\Temp\\ipykernel_8752\\2203449036.py:2: DeprecationWarning:\n",
      "\n",
      "DataFrameGroupBy.apply operated on the grouping columns. This behavior is deprecated, and in a future version of pandas the grouping columns will be excluded from the operation. Either pass `include_groups=False` to exclude the groupings or explicitly select the grouping columns after groupby to silence this warning.\n",
      "\n"
     ]
    },
    {
     "data": {
      "text/html": [
       "<div>\n",
       "<style scoped>\n",
       "    .dataframe tbody tr th:only-of-type {\n",
       "        vertical-align: middle;\n",
       "    }\n",
       "\n",
       "    .dataframe tbody tr th {\n",
       "        vertical-align: top;\n",
       "    }\n",
       "\n",
       "    .dataframe thead th {\n",
       "        text-align: right;\n",
       "    }\n",
       "</style>\n",
       "<table border=\"1\" class=\"dataframe\">\n",
       "  <thead>\n",
       "    <tr style=\"text-align: right;\">\n",
       "      <th></th>\n",
       "      <th>iso_code</th>\n",
       "      <th>continent</th>\n",
       "      <th>location</th>\n",
       "      <th>date</th>\n",
       "      <th>total_cases</th>\n",
       "      <th>new_cases</th>\n",
       "      <th>new_cases_smoothed</th>\n",
       "      <th>total_deaths</th>\n",
       "      <th>new_deaths</th>\n",
       "      <th>new_deaths_smoothed</th>\n",
       "      <th>...</th>\n",
       "      <th>male_smokers</th>\n",
       "      <th>handwashing_facilities</th>\n",
       "      <th>hospital_beds_per_thousand</th>\n",
       "      <th>life_expectancy</th>\n",
       "      <th>human_development_index</th>\n",
       "      <th>population</th>\n",
       "      <th>excess_mortality_cumulative_absolute</th>\n",
       "      <th>excess_mortality_cumulative</th>\n",
       "      <th>excess_mortality</th>\n",
       "      <th>excess_mortality_cumulative_per_million</th>\n",
       "    </tr>\n",
       "  </thead>\n",
       "  <tbody>\n",
       "    <tr>\n",
       "      <th>0</th>\n",
       "      <td>BRA</td>\n",
       "      <td>South America</td>\n",
       "      <td>Brazil</td>\n",
       "      <td>2020-01-03</td>\n",
       "      <td>1.0</td>\n",
       "      <td>0.0</td>\n",
       "      <td>0.0</td>\n",
       "      <td>1.0</td>\n",
       "      <td>0.0</td>\n",
       "      <td>0.0</td>\n",
       "      <td>...</td>\n",
       "      <td>17.9</td>\n",
       "      <td>NaN</td>\n",
       "      <td>2.2</td>\n",
       "      <td>75.88</td>\n",
       "      <td>0.765</td>\n",
       "      <td>215313504.0</td>\n",
       "      <td>-723.7</td>\n",
       "      <td>-0.65</td>\n",
       "      <td>-0.65</td>\n",
       "      <td>-3.394524</td>\n",
       "    </tr>\n",
       "    <tr>\n",
       "      <th>1</th>\n",
       "      <td>BRA</td>\n",
       "      <td>South America</td>\n",
       "      <td>Brazil</td>\n",
       "      <td>2020-01-04</td>\n",
       "      <td>1.0</td>\n",
       "      <td>0.0</td>\n",
       "      <td>0.0</td>\n",
       "      <td>1.0</td>\n",
       "      <td>0.0</td>\n",
       "      <td>0.0</td>\n",
       "      <td>...</td>\n",
       "      <td>17.9</td>\n",
       "      <td>NaN</td>\n",
       "      <td>2.2</td>\n",
       "      <td>75.88</td>\n",
       "      <td>0.765</td>\n",
       "      <td>215313504.0</td>\n",
       "      <td>-723.7</td>\n",
       "      <td>-0.65</td>\n",
       "      <td>-0.65</td>\n",
       "      <td>-3.394524</td>\n",
       "    </tr>\n",
       "    <tr>\n",
       "      <th>2</th>\n",
       "      <td>BRA</td>\n",
       "      <td>South America</td>\n",
       "      <td>Brazil</td>\n",
       "      <td>2020-01-05</td>\n",
       "      <td>1.0</td>\n",
       "      <td>0.0</td>\n",
       "      <td>0.0</td>\n",
       "      <td>1.0</td>\n",
       "      <td>0.0</td>\n",
       "      <td>0.0</td>\n",
       "      <td>...</td>\n",
       "      <td>17.9</td>\n",
       "      <td>NaN</td>\n",
       "      <td>2.2</td>\n",
       "      <td>75.88</td>\n",
       "      <td>0.765</td>\n",
       "      <td>215313504.0</td>\n",
       "      <td>-723.7</td>\n",
       "      <td>-0.65</td>\n",
       "      <td>-0.65</td>\n",
       "      <td>-3.394524</td>\n",
       "    </tr>\n",
       "    <tr>\n",
       "      <th>3</th>\n",
       "      <td>BRA</td>\n",
       "      <td>South America</td>\n",
       "      <td>Brazil</td>\n",
       "      <td>2020-01-06</td>\n",
       "      <td>1.0</td>\n",
       "      <td>0.0</td>\n",
       "      <td>0.0</td>\n",
       "      <td>1.0</td>\n",
       "      <td>0.0</td>\n",
       "      <td>0.0</td>\n",
       "      <td>...</td>\n",
       "      <td>17.9</td>\n",
       "      <td>NaN</td>\n",
       "      <td>2.2</td>\n",
       "      <td>75.88</td>\n",
       "      <td>0.765</td>\n",
       "      <td>215313504.0</td>\n",
       "      <td>-723.7</td>\n",
       "      <td>-0.65</td>\n",
       "      <td>-0.65</td>\n",
       "      <td>-3.394524</td>\n",
       "    </tr>\n",
       "    <tr>\n",
       "      <th>4</th>\n",
       "      <td>BRA</td>\n",
       "      <td>South America</td>\n",
       "      <td>Brazil</td>\n",
       "      <td>2020-01-07</td>\n",
       "      <td>1.0</td>\n",
       "      <td>0.0</td>\n",
       "      <td>0.0</td>\n",
       "      <td>1.0</td>\n",
       "      <td>0.0</td>\n",
       "      <td>0.0</td>\n",
       "      <td>...</td>\n",
       "      <td>17.9</td>\n",
       "      <td>NaN</td>\n",
       "      <td>2.2</td>\n",
       "      <td>75.88</td>\n",
       "      <td>0.765</td>\n",
       "      <td>215313504.0</td>\n",
       "      <td>-723.7</td>\n",
       "      <td>-0.65</td>\n",
       "      <td>-0.65</td>\n",
       "      <td>-3.394524</td>\n",
       "    </tr>\n",
       "  </tbody>\n",
       "</table>\n",
       "<p>5 rows × 67 columns</p>\n",
       "</div>"
      ],
      "text/plain": [
       "  iso_code      continent location       date  total_cases  new_cases  \\\n",
       "0      BRA  South America   Brazil 2020-01-03          1.0        0.0   \n",
       "1      BRA  South America   Brazil 2020-01-04          1.0        0.0   \n",
       "2      BRA  South America   Brazil 2020-01-05          1.0        0.0   \n",
       "3      BRA  South America   Brazil 2020-01-06          1.0        0.0   \n",
       "4      BRA  South America   Brazil 2020-01-07          1.0        0.0   \n",
       "\n",
       "   new_cases_smoothed  total_deaths  new_deaths  new_deaths_smoothed  ...  \\\n",
       "0                 0.0           1.0         0.0                  0.0  ...   \n",
       "1                 0.0           1.0         0.0                  0.0  ...   \n",
       "2                 0.0           1.0         0.0                  0.0  ...   \n",
       "3                 0.0           1.0         0.0                  0.0  ...   \n",
       "4                 0.0           1.0         0.0                  0.0  ...   \n",
       "\n",
       "   male_smokers  handwashing_facilities  hospital_beds_per_thousand  \\\n",
       "0          17.9                     NaN                         2.2   \n",
       "1          17.9                     NaN                         2.2   \n",
       "2          17.9                     NaN                         2.2   \n",
       "3          17.9                     NaN                         2.2   \n",
       "4          17.9                     NaN                         2.2   \n",
       "\n",
       "   life_expectancy  human_development_index   population  \\\n",
       "0            75.88                    0.765  215313504.0   \n",
       "1            75.88                    0.765  215313504.0   \n",
       "2            75.88                    0.765  215313504.0   \n",
       "3            75.88                    0.765  215313504.0   \n",
       "4            75.88                    0.765  215313504.0   \n",
       "\n",
       "   excess_mortality_cumulative_absolute  excess_mortality_cumulative  \\\n",
       "0                                -723.7                        -0.65   \n",
       "1                                -723.7                        -0.65   \n",
       "2                                -723.7                        -0.65   \n",
       "3                                -723.7                        -0.65   \n",
       "4                                -723.7                        -0.65   \n",
       "\n",
       "   excess_mortality  excess_mortality_cumulative_per_million  \n",
       "0             -0.65                                -3.394524  \n",
       "1             -0.65                                -3.394524  \n",
       "2             -0.65                                -3.394524  \n",
       "3             -0.65                                -3.394524  \n",
       "4             -0.65                                -3.394524  \n",
       "\n",
       "[5 rows x 67 columns]"
      ]
     },
     "execution_count": 70,
     "metadata": {},
     "output_type": "execute_result"
    }
   ],
   "source": [
    "# Fill missing values within each country group\n",
    "df_filtered = df_filtered.groupby(\"location\").apply(lambda group: group.ffill().bfill()).reset_index(drop=True)\n",
    "df_filtered.head()"
   ]
  },
  {
   "cell_type": "markdown",
   "id": "113fe595-4dc1-4566-a61b-89c0370435e7",
   "metadata": {},
   "source": [
    "## Step 8: Total COVID-19 Cases Over Time\n",
    "\n",
    "This line plot shows how total confirmed COVID-19 cases increased over time in each selected country.\n",
    "\n",
    "- **India** and the **United States** experienced large surges.\n",
    "- **Kenya** shows a slower and smaller case trajectory.\n"
   ]
  },
  {
   "cell_type": "code",
   "execution_count": 71,
   "id": "ca9c7c0d-3232-4761-85a3-37772d95c1d8",
   "metadata": {},
   "outputs": [
    {
     "data": {
      "image/png": "[encoded data removed]",
      "text/plain": [
       "<Figure size 1200x600 with 1 Axes>"
      ]
     },
     "metadata": {},
     "output_type": "display_data"
    }
   ],
   "source": [
    "#  Time Series Plot - Total COVID-19 Cases Over Time\n",
    "import matplotlib.pyplot as plt\n",
    "\n",
    "plt.figure(figsize=(12, 6))\n",
    "for country in countries:\n",
    "    country_data = df_filtered[df_filtered[\"location\"] == country]\n",
    "    plt.plot(country_data[\"date\"], country_data[\"total_cases\"], label=country)\n",
    "\n",
    "plt.title(\" Total COVID-19 Cases Over Time\")\n",
    "plt.xlabel(\"Date\")\n",
    "plt.ylabel(\"Total Cases\")\n",
    "plt.legend()\n",
    "plt.tight_layout()\n",
    "plt.savefig(\"plots/Total_COVID-19_Cases_Over_Time.png\", format=\"png\", bbox_inches=\"tight\")\n",
    "\n",
    "plt.show()\n"
   ]
  },
  {
   "cell_type": "markdown",
   "id": "5da12157-9577-4ba2-975d-2245cb3a117b",
   "metadata": {},
   "source": [
    "## Step 9: Total COVID-19 Deaths Over Time\n",
    "\n",
    "This chart highlights the growth in cumulative deaths. It reflects both:\n",
    "\n",
    "- Outbreak severity\n",
    "- Healthcare capacity\n",
    "\n",
    "The **US** and **Brazil** have high death tolls, while **Kenya** remains relatively low.\n"
   ]
  },
  {
   "cell_type": "code",
   "execution_count": 72,
   "id": "8b036369-0471-4f78-9b27-1c7e24392c36",
   "metadata": {},
   "outputs": [
    {
     "data": {
      "image/png": "[encoded data removed]",
      "text/plain": [
       "<Figure size 1200x600 with 1 Axes>"
      ]
     },
     "metadata": {},
     "output_type": "display_data"
    }
   ],
   "source": [
    "#  Total COVID-19 Deaths Over Time\n",
    "plt.figure(figsize=(12, 6))\n",
    "for country in countries:\n",
    "    country_data = df_filtered[df_filtered[\"location\"] == country]\n",
    "    plt.plot(country_data[\"date\"], country_data[\"total_deaths\"], label=country)\n",
    "\n",
    "plt.title(\" Total COVID-19 Deaths Over Time\")\n",
    "plt.xlabel(\"Date\")\n",
    "plt.ylabel(\"Total Deaths\")\n",
    "plt.legend()\n",
    "plt.tight_layout()\n",
    "plt.savefig(\"plots/Total_COVID-19_Deaths_Over_Time.png\", format=\"png\", bbox_inches=\"tight\")\n",
    "\n",
    "plt.show()\n"
   ]
  },
  {
   "cell_type": "markdown",
   "id": "fe1e58c0-1350-4540-ae63-2d1766e015f1",
   "metadata": {},
   "source": [
    "## Step 10: Daily New COVID-19 Cases (7-Day Average)\n",
    "\n",
    "By plotting the 7-day average of new cases, we smooth out reporting noise and spot:\n",
    "\n",
    "- Peaks from different COVID-19 waves\n",
    "- Timing of spikes across countries\n",
    "\n",
    "India had a major spike in mid-2021 due to the Delta variant.\n"
   ]
  },
  {
   "cell_type": "code",
   "execution_count": 73,
   "id": "de47f0f2-ce80-40e3-a25c-780eb48a1d44",
   "metadata": {},
   "outputs": [
    {
     "data": {
      "image/png": "[encoded data removed]",
      "text/plain": [
       "<Figure size 1200x600 with 1 Axes>"
      ]
     },
     "metadata": {},
     "output_type": "display_data"
    }
   ],
   "source": [
    "#Daily New Cases (7-Day Rolling Average)\n",
    "plt.figure(figsize=(12, 6))\n",
    "for country in countries:\n",
    "    country_data = df_filtered[df_filtered[\"location\"] == country]\n",
    "    plt.plot(country_data[\"date\"], country_data[\"new_cases\"].rolling(7).mean(), label=country)\n",
    "\n",
    "plt.title(\"Daily New COVID-19 Cases (7-Day Average)\")\n",
    "plt.xlabel(\"Date\")\n",
    "plt.ylabel(\"New Cases (7-day avg)\")\n",
    "plt.legend()\n",
    "plt.tight_layout()\n",
    "plt.savefig(\"plots/Daily_New_COVID-19_Cases_(7-Day Average).png\", format=\"png\", bbox_inches=\"tight\")\n",
    "\n",
    "plt.show()\n"
   ]
  },
  {
   "cell_type": "markdown",
   "id": "1e794f58-d20a-475a-85cf-35b63f1231a7",
   "metadata": {},
   "source": [
    "## Step 11: Death Rate Over Time\n",
    "\n",
    "We calculate the death rate as:\n",
    "\n"
   ]
  },
  {
   "cell_type": "code",
   "execution_count": 74,
   "id": "5c3d8d0c-f658-4c7f-a097-31e6af2def34",
   "metadata": {},
   "outputs": [
    {
     "data": {
      "image/png": "[encoded data removed]",
      "text/plain": [
       "<Figure size 1200x600 with 1 Axes>"
      ]
     },
     "metadata": {},
     "output_type": "display_data"
    }
   ],
   "source": [
    "# Calculate and Plot Death Rate Over Time\n",
    "df_filtered[\"death_rate\"] = df_filtered[\"total_deaths\"] / df_filtered[\"total_cases\"]\n",
    "\n",
    "plt.figure(figsize=(12, 6))\n",
    "for country in countries:\n",
    "    country_data = df_filtered[df_filtered[\"location\"] == country]\n",
    "    plt.plot(country_data[\"date\"], country_data[\"death_rate\"], label=country)\n",
    "\n",
    "plt.title(\"COVID-19 Death Rate Over Time\")\n",
    "plt.xlabel(\"Date\")\n",
    "plt.ylabel(\"Death Rate (Deaths / Cases)\")\n",
    "plt.legend()\n",
    "plt.tight_layout()\n",
    "plt.savefig(\"plots/COVID-19_Death_Rate_Over_Time.png\", format=\"png\", bbox_inches=\"tight\")\n",
    "\n",
    "plt.show()\n"
   ]
  },
  {
   "cell_type": "markdown",
   "id": "49da51bc-b3e8-427f-8a1d-ea61aefe56f6",
   "metadata": {},
   "source": [
    "\n",
    "- **Germany** and the **US** had higher death rates early in the pandemic.\n",
    "- Death rates often decline over time due to improved treatment and vaccination.\n"
   ]
  },
  {
   "cell_type": "markdown",
   "id": "78921f98-6dee-4beb-8516-706591e95328",
   "metadata": {},
   "source": [
    "##  Step 12: Vaccination Progress\n",
    "\n",
    "This chart shows the percentage of people fully vaccinated in each country.\n",
    "\n",
    "- **Germany** and the **United States** reached high vaccination levels quickly.\n",
    "- **Kenya** shows slower progress, reflecting disparities in global vaccine distribution.\n"
   ]
  },
  {
   "cell_type": "code",
   "execution_count": 75,
   "id": "3dd22152-6341-40c6-bc66-7b5debe7e5ff",
   "metadata": {},
   "outputs": [
    {
     "data": {
      "image/png": "[encoded data removed]",
      "text/plain": [
       "<Figure size 1200x600 with 1 Axes>"
      ]
     },
     "metadata": {},
     "output_type": "display_data"
    }
   ],
   "source": [
    "#  Vaccination Progress (% of Population Fully Vaccinated)\n",
    "plt.figure(figsize=(12, 6))\n",
    "for country in countries:\n",
    "    country_data = df_filtered[df_filtered[\"location\"] == country]\n",
    "    plt.plot(\n",
    "        country_data[\"date\"],\n",
    "        country_data[\"people_fully_vaccinated_per_hundred\"],\n",
    "        label=country\n",
    "    )\n",
    "\n",
    "plt.title(\"Fully Vaccinated People (% of Population)\")\n",
    "plt.xlabel(\"Date\")\n",
    "plt.ylabel(\"Percentage Fully Vaccinated\")\n",
    "plt.legend()\n",
    "plt.tight_layout()\n",
    "plt.savefig(\"plots/Fully_Vaccinated_People_(%_of_Population).png\", format=\"png\", bbox_inches=\"tight\")\n",
    "\n",
    "plt.show()\n"
   ]
  },
  {
   "cell_type": "markdown",
   "id": "f3a60916-8e3f-48ef-9cee-850cfda3fab5",
   "metadata": {},
   "source": [
    "## Step 13: Global Map of Total Cases\n",
    "\n",
    "The choropleth map uses color intensity to show which countries have the highest total COVID-19 cases.\n",
    "\n",
    "- **USA**, **India**, and **Brazil** show the darkest colors, indicating the highest case counts.\n"
   ]
  },
  {
   "cell_type": "code",
   "execution_count": 76,
   "id": "ed7d3ca3-8951-4640-9dfb-df0077a44606",
   "metadata": {},
   "outputs": [
    {
     "data": {
      "application/vnd.plotly.v1+json": {
       "config": {
        "plotlyServerURL": "https://plot.ly"
       },
       "data": [
        {
         "coloraxis": "coloraxis",
         "customdata": [
          [
           211630,
           5.325577231940418
          ],
          [
           13074358,
           7.116420372575431
          ],
          [
           333897,
           5.523612517019933
          ],
          [
           271613,
           5.4339505524021
          ],
          [
           8326,
           3.9204364065507584
          ],
          [
           47939,
           4.6806889704775365
          ],
          [
           105353,
           5.022646906957838
          ],
          [
           3904,
           3.591509808994654
          ],
          [
           9106,
           3.959327645972171
          ],
          [
           10044957,
           7.001948081979968
          ],
          [
           448707,
           5.651962844745154
          ],
          [
           44114,
           4.644576438852238
          ],
          [
           295846519,
           8.47106646363167
          ],
          [
           11153745,
           7.047420711308598
          ],
          [
           6046956,
           6.7815368085221435
          ],
          [
           830367,
           5.919270081348938
          ],
          [
           37491,
           4.573927024542379
          ],
          [
           696614,
           5.842992198318671
          ],
          [
           2038091,
           6.309223571189321
          ],
          [
           107332,
           5.030729221980151
          ],
          [
           994037,
           5.9974025499876245
          ],
          [
           4782863,
           6.679687941148748
          ],
          [
           70782,
           4.849922829800399
          ],
          [
           28014,
           4.4473751243144495
          ],
          [
           18860,
           4.27554168840131
          ],
          [
           62650,
           4.796921075330169
          ],
          [
           1195880,
           6.077687602769044
          ],
          [
           11885,
           4.074999186064199
          ],
          [
           402636,
           5.60491260289833
          ],
          [
           329837,
           5.518299371728511
          ],
          [
           37319254,
           7.571932953752875
          ],
          [
           7305,
           3.8636202202703154
          ],
          [
           284632,
           5.454283724427734
          ],
          [
           1301475,
           6.114435830173778
          ],
          [
           22056,
           4.343526753097717
          ],
          [
           53719,
           4.730127919511864
          ],
          [
           138726,
           5.142157864089315
          ],
          [
           124834,
           5.096332886639306
          ],
          [
           4634277,
           6.665981988879106
          ],
          [
           63281,
           4.8012733334961055
          ],
          [
           31472,
           4.497924342575262
          ],
          [
           15367,
           4.186589091272407
          ],
          [
           7696,
           3.8862650590297565
          ],
          [
           5272767,
           6.722038580576672
          ],
          [
           99239252,
           7.996683482187266
          ],
          [
           6363058,
           6.803665881898042
          ],
          [
           9093,
           3.9587071910872846
          ],
          [
           25185,
           4.40114195519373
          ],
          [
           7042,
           3.8476960207341655
          ],
          [
           1226315,
           6.0886020404843775
          ],
          [
           88308,
           4.946000048973673
          ],
          [
           1271276,
           6.1042398481656575
          ],
          [
           1112853,
           6.0464378008979205
          ],
          [
           45798,
           4.66084651276524
          ],
          [
           655664,
           5.816681338873837
          ],
          [
           4636282,
           6.666169843883274
          ],
          [
           95944,
           4.982017820672663
          ],
          [
           3409630,
           6.532707253574121
          ],
          [
           15690,
           4.195622943586937
          ],
          [
           15760,
           4.197556213153536
          ],
          [
           660937,
           5.820160064846742
          ],
          [
           1059529,
           6.02511284813281
          ],
          [
           515913,
           5.712576471383935
          ],
          [
           201785,
           5.304888879148899
          ],
          [
           17130,
           4.233757362965511
          ],
          [
           10189,
           4.008131562240663
          ],
          [
           617247,
           5.790458987811565
          ],
          [
           74520,
           4.872272846224205
          ],
          [
           500731,
           5.699604479180381
          ],
          [
           248182442,
           8.394771053503407
          ],
          [
           183460522,
           8.263542624870897
          ],
          [
           34658,
           4.5398034973846775
          ],
          [
           1923,
           3.28397928423848
          ],
          [
           68914,
           4.838307458556552
          ],
          [
           1468123,
           6.1667624424898
          ],
          [
           38791479,
           7.5887363382309845
          ],
          [
           98041,
           4.991407732325726
          ],
          [
           78219,
           4.893312259362749
          ],
          [
           48981,
           4.6900276474699645
          ],
          [
           12622,
           4.101128175838757
          ],
          [
           1836791,
           6.264059742745366
          ],
          [
           38368891,
           7.583979246695297
          ],
          [
           171527,
           5.234332491889426
          ],
          [
           20550,
           4.312811826212088
          ],
          [
           5972760,
           6.776175064090827
          ],
          [
           11971,
           4.078130430802564
          ],
          [
           19683,
           4.294091292476962
          ],
          [
           202163,
           5.305701673677285
          ],
          [
           51017,
           4.707714916803127
          ],
          [
           1244812,
           6.095103766268897
          ],
          [
           35235,
           4.546974275833287
          ],
          [
           38280,
           4.582971929104806
          ],
          [
           9350,
           3.9708116108725178
          ],
          [
           73119,
           4.864030243209204
          ],
          [
           34202,
           4.534051502651675
          ],
          [
           418961061,
           8.62217366072602
          ],
          [
           472467,
           5.67437148010793
          ],
          [
           2199764,
           6.342376090369706
          ],
          [
           209191,
           5.320542995996305
          ],
          [
           44768172,
           7.650969361380966
          ],
          [
           6752606,
           6.82947141031284
          ],
          [
           7597982,
           6.880698260354535
          ],
          [
           2465545,
           6.391912933483801
          ],
          [
           1708435,
           6.232598460057036
          ],
          [
           38008,
           4.579875017411149
          ],
          [
           4817255,
           6.682799636175697
          ],
          [
           25715384,
           7.410193013892804
          ],
          [
           154602,
           5.189215107844567
          ],
          [
           33523927,
           7.5253548862869
          ],
          [
           66391,
           4.822109210162377
          ],
          [
           1746997,
           6.242292159198978
          ],
          [
           1501450,
           6.176510874273492
          ],
          [
           342992,
           5.53528399060728
          ],
          [
           5014,
           3.7001843296221977
          ],
          [
           273764,
           5.437376337774306
          ],
          [
           665527,
           5.823165679214377
          ],
          [
           206849,
           5.315653425664059
          ],
          [
           218037,
           5.3385301978813935
          ],
          [
           977172,
           5.989971014155152
          ],
          [
           1235177,
           6.091729196150596
          ],
          [
           34490,
           4.537693194367391
          ],
          [
           8090,
           3.9079485216122722
          ],
          [
           507229,
           5.705204075670072
          ],
          [
           21460,
           4.331629717629932
          ],
          [
           1316086,
           6.1192842692970215
          ],
          [
           2291726,
           6.3601626919160275
          ],
          [
           97087190,
           7.98716193145983
          ],
          [
           319959,
           5.505094330774415
          ],
          [
           68105,
           4.833178997268102
          ],
          [
           88620,
           4.947531745695593
          ],
          [
           5052337,
           6.703492311075523
          ],
          [
           185894,
           5.269265372510234
          ],
          [
           33133,
           4.520260760495895
          ],
          [
           118214,
           5.072668912777894
          ],
          [
           16013,
           4.204472703648964
          ],
          [
           229479,
           5.360742948690671
          ],
          [
           63562,
           4.803197553974273
          ],
          [
           298099,
           5.474360519155038
          ],
          [
           42008,
           4.623332005279001
          ],
          [
           7553646,
           6.8781566278506485
          ],
          [
           25703,
           4.409983816226542
          ],
          [
           618741,
           5.791508894885037
          ],
          [
           16178,
           4.208924831080264
          ],
          [
           1007943,
           6.003435973096206
          ],
          [
           289292,
           5.461336423955988
          ],
          [
           1403,
           3.1470576710283598
          ],
          [
           1272733,
           6.104737304840785
          ],
          [
           233334,
           5.367978026134199
          ],
          [
           634105,
           5.8021611776686655
          ],
          [
           171222,
           5.23355956562593
          ],
          [
           5393,
           3.7318304202881625
          ],
          [
           1001951,
           6.000846483058213
          ],
          [
           8610372,
           6.9350219149910854
          ],
          [
           80052,
           4.903372186700208
          ],
          [
           2217047,
           6.3457748999815555
          ],
          [
           15682,
           4.195401449520219
          ],
          [
           9513,
           3.978317496746751
          ],
          [
           266675,
           5.425982303762787
          ],
          [
           747,
           2.873320601815399
          ],
          [
           123493229,
           8.091643146352359
          ],
          [
           347672,
           5.541169715891349
          ],
          [
           13773,
           4.139028547485683
          ],
          [
           1481760,
           6.170777866857683
          ],
          [
           13860132,
           7.141767366394015
          ],
          [
           399449,
           5.601461338262114
          ],
          [
           1580021,
           6.198662859184493
          ],
          [
           5997,
           3.7779340488377793
          ],
          [
           703228,
           5.847096154448255
          ],
          [
           1033781,
           6.014428545948344
          ],
          [
           46837,
           4.670589069893688
          ],
          [
           735759,
           5.866735583209883
          ],
          [
           4492891,
           6.65252588249849
          ],
          [
           4083678,
           6.611051490433392
          ],
          [
           4,
           0.6020599913279624
          ],
          [
           6504340,
           6.813203234963699
          ],
          [
           5577825,
           6.746464884486043
          ],
          [
           1110017,
           6.045329630092654
          ],
          [
           502436,
           5.701080749441756
          ],
          [
           494595,
           5.694249721642372
          ],
          [
           3380891,
           6.529031169327848
          ],
          [
           22727542,
           7.3565524690043524
          ],
          [
           133194,
           5.124484661579165
          ],
          [
           5478,
           3.7386220279179425
          ],
          [
           2166,
           3.3356584522893016
          ],
          [
           6598,
           3.8194123112093252
          ],
          [
           30028,
           4.477526407194348
          ],
          [
           12280,
           4.089198366805149
          ],
          [
           3426,
           3.5347873586294916
          ],
          [
           9601,
           3.982316469692065
          ],
          [
           16675,
           4.222065842588586
          ],
          [
           23873,
           4.377906998042317
          ],
          [
           6542,
           3.815710539788963
          ],
          [
           836442,
           5.922435831785858
          ],
          [
           88978,
           4.949282639682136
          ],
          [
           2524670,
           6.402204619466512
          ],
          [
           50937,
           4.70703336304981
          ],
          [
           7762,
           3.8899736384039962
          ],
          [
           2298689,
           6.3614802175849485
          ],
          [
           11030,
           4.042575512440191
          ],
          [
           1865828,
           6.27087160613406
          ],
          [
           1342156,
           6.1278029972053325
          ],
          [
           24575,
           4.390493526504173
          ],
          [
           27334,
           4.436703190083218
          ],
          [
           4072533,
           6.609864612111262
          ],
          [
           68328230,
           7.8346001707418695
          ],
          [
           30918060,
           7.490212235643206
          ],
          [
           18368,
           4.26406187071788
          ],
          [
           13798747,
           7.139839651930809
          ],
          [
           672092,
           5.8274287259668665
          ],
          [
           63922,
           4.80565035478177
          ],
          [
           82495,
           4.916427626874599
          ],
          [
           2702703,
           6.4317983237053955
          ],
          [
           4399085,
           6.643362353582755
          ],
          [
           57423,
           4.759085877979562
          ],
          [
           17786,
           4.250078287979645
          ],
          [
           42973,
           4.633195673394554
          ],
          [
           4728967,
           6.674766283402631
          ],
          [
           23423,
           4.369642518405259
          ],
          [
           39469,
           4.5962561231022905
          ],
          [
           5,
           0.6989700043360189
          ],
          [
           16814,
           4.225671043081144
          ],
          [
           191007,
           5.2810492835077625
          ],
          [
           1152033,
           6.0614649196363555
          ],
          [
           17004677,
           7.230568387021466
          ],
          [
           6565,
           3.8172347304254983
          ],
          [
           2779,
           3.443888546777372
          ],
          [
           170515,
           5.231762589373604
          ],
          [
           5484936,
           6.739171564452389
          ],
          [
           1058979,
           6.024887347950216
          ],
          [
           24330379,
           7.386148874090154
          ],
          [
           102873924,
           8.012305305782354
          ],
          [
           24886,
           4.395955096788144
          ],
          [
           243241063,
           8.386036892676934
          ],
          [
           1036159,
           6.015426403598623
          ],
          [
           252265,
           5.40185699938287
          ],
          [
           12014,
           4.079687627611336
          ],
          [
           26,
           1.414973347970818
          ],
          [
           552398,
           5.74225209751243
          ],
          [
           11527745,
           7.061744361081631
          ],
          [
           3427,
           3.534914104429867
          ],
          [
           762790388,
           8.882405211819089
          ],
          [
           11945,
           4.077186154085897
          ],
          [
           343415,
           5.53581926075779
          ],
          [
           264584,
           5.4225635778643
          ]
         ],
         "geo": "geo",
         "hovertemplate": "<b>%{hovertext}</b><br><br>iso_code=%{location}<br>total_cases=%{customdata[0]}<extra></extra>",
         "hovertext": [
          "Afghanistan",
          "Africa",
          "Albania",
          "Algeria",
          "American Samoa",
          "Andorra",
          "Angola",
          "Anguilla",
          "Antigua and Barbuda",
          "Argentina",
          "Armenia",
          "Aruba",
          "Asia",
          "Australia",
          "Austria",
          "Azerbaijan",
          "Bahamas",
          "Bahrain",
          "Bangladesh",
          "Barbados",
          "Belarus",
          "Belgium",
          "Belize",
          "Benin",
          "Bermuda",
          "Bhutan",
          "Bolivia",
          "Bonaire Sint Eustatius and Saba",
          "Bosnia and Herzegovina",
          "Botswana",
          "Brazil",
          "British Virgin Islands",
          "Brunei",
          "Bulgaria",
          "Burkina Faso",
          "Burundi",
          "Cambodia",
          "Cameroon",
          "Canada",
          "Cape Verde",
          "Cayman Islands",
          "Central African Republic",
          "Chad",
          "Chile",
          "China",
          "Colombia",
          "Comoros",
          "Congo",
          "Cook Islands",
          "Costa Rica",
          "Cote d'Ivoire",
          "Croatia",
          "Cuba",
          "Curacao",
          "Cyprus",
          "Czechia",
          "Democratic Republic of Congo",
          "Denmark",
          "Djibouti",
          "Dominica",
          "Dominican Republic",
          "Ecuador",
          "Egypt",
          "El Salvador",
          "Equatorial Guinea",
          "Eritrea",
          "Estonia",
          "Eswatini",
          "Ethiopia",
          "Europe",
          "European Union",
          "Faeroe Islands",
          "Falkland Islands",
          "Fiji",
          "Finland",
          "France",
          "French Guiana",
          "French Polynesia",
          "Gabon",
          "Gambia",
          "Georgia",
          "Germany",
          "Ghana",
          "Gibraltar",
          "Greece",
          "Greenland",
          "Grenada",
          "Guadeloupe",
          "Guam",
          "Guatemala",
          "Guernsey",
          "Guinea",
          "Guinea-Bissau",
          "Guyana",
          "Haiti",
          "High income",
          "Honduras",
          "Hungary",
          "Iceland",
          "India",
          "Indonesia",
          "Iran",
          "Iraq",
          "Ireland",
          "Isle of Man",
          "Israel",
          "Italy",
          "Jamaica",
          "Japan",
          "Jersey",
          "Jordan",
          "Kazakhstan",
          "Kenya",
          "Kiribati",
          "Kosovo",
          "Kuwait",
          "Kyrgyzstan",
          "Laos",
          "Latvia",
          "Lebanon",
          "Lesotho",
          "Liberia",
          "Libya",
          "Liechtenstein",
          "Lithuania",
          "Low income",
          "Lower middle income",
          "Luxembourg",
          "Madagascar",
          "Malawi",
          "Malaysia",
          "Maldives",
          "Mali",
          "Malta",
          "Marshall Islands",
          "Martinique",
          "Mauritania",
          "Mauritius",
          "Mayotte",
          "Mexico",
          "Micronesia (country)",
          "Moldova",
          "Monaco",
          "Mongolia",
          "Montenegro",
          "Montserrat",
          "Morocco",
          "Mozambique",
          "Myanmar",
          "Namibia",
          "Nauru",
          "Nepal",
          "Netherlands",
          "New Caledonia",
          "New Zealand",
          "Nicaragua",
          "Niger",
          "Nigeria",
          "Niue",
          "North America",
          "North Macedonia",
          "Northern Mariana Islands",
          "Norway",
          "Oceania",
          "Oman",
          "Pakistan",
          "Palau",
          "Palestine",
          "Panama",
          "Papua New Guinea",
          "Paraguay",
          "Peru",
          "Philippines",
          "Pitcairn",
          "Poland",
          "Portugal",
          "Puerto Rico",
          "Qatar",
          "Reunion",
          "Romania",
          "Russia",
          "Rwanda",
          "Saint Barthelemy",
          "Saint Helena",
          "Saint Kitts and Nevis",
          "Saint Lucia",
          "Saint Martin (French part)",
          "Saint Pierre and Miquelon",
          "Saint Vincent and the Grenadines",
          "Samoa",
          "San Marino",
          "Sao Tome and Principe",
          "Saudi Arabia",
          "Senegal",
          "Serbia",
          "Seychelles",
          "Sierra Leone",
          "Singapore",
          "Sint Maarten (Dutch part)",
          "Slovakia",
          "Slovenia",
          "Solomon Islands",
          "Somalia",
          "South Africa",
          "South America",
          "South Korea",
          "South Sudan",
          "Spain",
          "Sri Lanka",
          "Sudan",
          "Suriname",
          "Sweden",
          "Switzerland",
          "Syria",
          "Tajikistan",
          "Tanzania",
          "Thailand",
          "Timor",
          "Togo",
          "Tokelau",
          "Tonga",
          "Trinidad and Tobago",
          "Tunisia",
          "Turkey",
          "Turks and Caicos Islands",
          "Tuvalu",
          "Uganda",
          "Ukraine",
          "United Arab Emirates",
          "United Kingdom",
          "United States",
          "United States Virgin Islands",
          "Upper middle income",
          "Uruguay",
          "Uzbekistan",
          "Vanuatu",
          "Vatican",
          "Venezuela",
          "Vietnam",
          "Wallis and Futuna",
          "World",
          "Yemen",
          "Zambia",
          "Zimbabwe"
         ],
         "locations": [
          "AFG",
          "OWID_AFR",
          "ALB",
          "DZA",
          "ASM",
          "AND",
          "AGO",
          "AIA",
          "ATG",
          "ARG",
          "ARM",
          "ABW",
          "OWID_ASI",
          "AUS",
          "AUT",
          "AZE",
          "BHS",
          "BHR",
          "BGD",
          "BRB",
          "BLR",
          "BEL",
          "BLZ",
          "BEN",
          "BMU",
          "BTN",
          "BOL",
          "BES",
          "BIH",
          "BWA",
          "BRA",
          "VGB",
          "BRN",
          "BGR",
          "BFA",
          "BDI",
          "KHM",
          "CMR",
          "CAN",
          "CPV",
          "CYM",
          "CAF",
          "TCD",
          "CHL",
          "CHN",
          "COL",
          "COM",
          "COG",
          "COK",
          "CRI",
          "CIV",
          "HRV",
          "CUB",
          "CUW",
          "CYP",
          "CZE",
          "COD",
          "DNK",
          "DJI",
          "DMA",
          "DOM",
          "ECU",
          "EGY",
          "SLV",
          "GNQ",
          "ERI",
          "EST",
          "SWZ",
          "ETH",
          "OWID_EUR",
          "OWID_EUN",
          "FRO",
          "FLK",
          "FJI",
          "FIN",
          "FRA",
          "GUF",
          "PYF",
          "GAB",
          "GMB",
          "GEO",
          "DEU",
          "GHA",
          "GIB",
          "GRC",
          "GRL",
          "GRD",
          "GLP",
          "GUM",
          "GTM",
          "GGY",
          "GIN",
          "GNB",
          "GUY",
          "HTI",
          "OWID_HIC",
          "HND",
          "HUN",
          "ISL",
          "IND",
          "IDN",
          "IRN",
          "IRQ",
          "IRL",
          "IMN",
          "ISR",
          "ITA",
          "JAM",
          "JPN",
          "JEY",
          "JOR",
          "KAZ",
          "KEN",
          "KIR",
          "OWID_KOS",
          "KWT",
          "KGZ",
          "LAO",
          "LVA",
          "LBN",
          "LSO",
          "LBR",
          "LBY",
          "LIE",
          "LTU",
          "OWID_LIC",
          "OWID_LMC",
          "LUX",
          "MDG",
          "MWI",
          "MYS",
          "MDV",
          "MLI",
          "MLT",
          "MHL",
          "MTQ",
          "MRT",
          "MUS",
          "MYT",
          "MEX",
          "FSM",
          "MDA",
          "MCO",
          "MNG",
          "MNE",
          "MSR",
          "MAR",
          "MOZ",
          "MMR",
          "NAM",
          "NRU",
          "NPL",
          "NLD",
          "NCL",
          "NZL",
          "NIC",
          "NER",
          "NGA",
          "NIU",
          "OWID_NAM",
          "MKD",
          "MNP",
          "NOR",
          "OWID_OCE",
          "OMN",
          "PAK",
          "PLW",
          "PSE",
          "PAN",
          "PNG",
          "PRY",
          "PER",
          "PHL",
          "PCN",
          "POL",
          "PRT",
          "PRI",
          "QAT",
          "REU",
          "ROU",
          "RUS",
          "RWA",
          "BLM",
          "SHN",
          "KNA",
          "LCA",
          "MAF",
          "SPM",
          "VCT",
          "WSM",
          "SMR",
          "STP",
          "SAU",
          "SEN",
          "SRB",
          "SYC",
          "SLE",
          "SGP",
          "SXM",
          "SVK",
          "SVN",
          "SLB",
          "SOM",
          "ZAF",
          "OWID_SAM",
          "KOR",
          "SSD",
          "ESP",
          "LKA",
          "SDN",
          "SUR",
          "SWE",
          "CHE",
          "SYR",
          "TJK",
          "TZA",
          "THA",
          "TLS",
          "TGO",
          "TKL",
          "TON",
          "TTO",
          "TUN",
          "TUR",
          "TCA",
          "TUV",
          "UGA",
          "UKR",
          "ARE",
          "GBR",
          "USA",
          "VIR",
          "OWID_UMC",
          "URY",
          "UZB",
          "VUT",
          "VAT",
          "VEN",
          "VNM",
          "WLF",
          "OWID_WRL",
          "YEM",
          "ZMB",
          "ZWE"
         ],
         "name": "",
         "type": "choropleth",
         "z": [
          5.325577231940418,
          7.116420372575431,
          5.523612517019933,
          5.4339505524021,
          3.9204364065507584,
          4.6806889704775365,
          5.022646906957838,
          3.591509808994654,
          3.959327645972171,
          7.001948081979968,
          5.651962844745154,
          4.644576438852238,
          8.47106646363167,
          7.047420711308598,
          6.7815368085221435,
          5.919270081348938,
          4.573927024542379,
          5.842992198318671,
          6.309223571189321,
          5.030729221980151,
          5.9974025499876245,
          6.679687941148748,
          4.849922829800399,
          4.4473751243144495,
          4.27554168840131,
          4.796921075330169,
          6.077687602769044,
          4.074999186064199,
          5.60491260289833,
          5.518299371728511,
          7.571932953752875,
          3.8636202202703154,
          5.454283724427734,
          6.114435830173778,
          4.343526753097717,
          4.730127919511864,
          5.142157864089315,
          5.096332886639306,
          6.665981988879106,
          4.8012733334961055,
          4.497924342575262,
          4.186589091272407,
          3.8862650590297565,
          6.722038580576672,
          7.996683482187266,
          6.803665881898042,
          3.9587071910872846,
          4.40114195519373,
          3.8476960207341655,
          6.0886020404843775,
          4.946000048973673,
          6.1042398481656575,
          6.0464378008979205,
          4.66084651276524,
          5.816681338873837,
          6.666169843883274,
          4.982017820672663,
          6.532707253574121,
          4.195622943586937,
          4.197556213153536,
          5.820160064846742,
          6.02511284813281,
          5.712576471383935,
          5.304888879148899,
          4.233757362965511,
          4.008131562240663,
          5.790458987811565,
          4.872272846224205,
          5.699604479180381,
          8.394771053503407,
          8.263542624870897,
          4.5398034973846775,
          3.28397928423848,
          4.838307458556552,
          6.1667624424898,
          7.5887363382309845,
          4.991407732325726,
          4.893312259362749,
          4.6900276474699645,
          4.101128175838757,
          6.264059742745366,
          7.583979246695297,
          5.234332491889426,
          4.312811826212088,
          6.776175064090827,
          4.078130430802564,
          4.294091292476962,
          5.305701673677285,
          4.707714916803127,
          6.095103766268897,
          4.546974275833287,
          4.582971929104806,
          3.9708116108725178,
          4.864030243209204,
          4.534051502651675,
          8.62217366072602,
          5.67437148010793,
          6.342376090369706,
          5.320542995996305,
          7.650969361380966,
          6.82947141031284,
          6.880698260354535,
          6.391912933483801,
          6.232598460057036,
          4.579875017411149,
          6.682799636175697,
          7.410193013892804,
          5.189215107844567,
          7.5253548862869,
          4.822109210162377,
          6.242292159198978,
          6.176510874273492,
          5.53528399060728,
          3.7001843296221977,
          5.437376337774306,
          5.823165679214377,
          5.315653425664059,
          5.3385301978813935,
          5.989971014155152,
          6.091729196150596,
          4.537693194367391,
          3.9079485216122722,
          5.705204075670072,
          4.331629717629932,
          6.1192842692970215,
          6.3601626919160275,
          7.98716193145983,
          5.505094330774415,
          4.833178997268102,
          4.947531745695593,
          6.703492311075523,
          5.269265372510234,
          4.520260760495895,
          5.072668912777894,
          4.204472703648964,
          5.360742948690671,
          4.803197553974273,
          5.474360519155038,
          4.623332005279001,
          6.8781566278506485,
          4.409983816226542,
          5.791508894885037,
          4.208924831080264,
          6.003435973096206,
          5.461336423955988,
          3.1470576710283598,
          6.104737304840785,
          5.367978026134199,
          5.8021611776686655,
          5.23355956562593,
          3.7318304202881625,
          6.000846483058213,
          6.9350219149910854,
          4.903372186700208,
          6.3457748999815555,
          4.195401449520219,
          3.978317496746751,
          5.425982303762787,
          2.873320601815399,
          8.091643146352359,
          5.541169715891349,
          4.139028547485683,
          6.170777866857683,
          7.141767366394015,
          5.601461338262114,
          6.198662859184493,
          3.7779340488377793,
          5.847096154448255,
          6.014428545948344,
          4.670589069893688,
          5.866735583209883,
          6.65252588249849,
          6.611051490433392,
          0.6020599913279624,
          6.813203234963699,
          6.746464884486043,
          6.045329630092654,
          5.701080749441756,
          5.694249721642372,
          6.529031169327848,
          7.3565524690043524,
          5.124484661579165,
          3.7386220279179425,
          3.3356584522893016,
          3.8194123112093252,
          4.477526407194348,
          4.089198366805149,
          3.5347873586294916,
          3.982316469692065,
          4.222065842588586,
          4.377906998042317,
          3.815710539788963,
          5.922435831785858,
          4.949282639682136,
          6.402204619466512,
          4.70703336304981,
          3.8899736384039962,
          6.3614802175849485,
          4.042575512440191,
          6.27087160613406,
          6.1278029972053325,
          4.390493526504173,
          4.436703190083218,
          6.609864612111262,
          7.8346001707418695,
          7.490212235643206,
          4.26406187071788,
          7.139839651930809,
          5.8274287259668665,
          4.80565035478177,
          4.916427626874599,
          6.4317983237053955,
          6.643362353582755,
          4.759085877979562,
          4.250078287979645,
          4.633195673394554,
          6.674766283402631,
          4.369642518405259,
          4.5962561231022905,
          0.6989700043360189,
          4.225671043081144,
          5.2810492835077625,
          6.0614649196363555,
          7.230568387021466,
          3.8172347304254983,
          3.443888546777372,
          5.231762589373604,
          6.739171564452389,
          6.024887347950216,
          7.386148874090154,
          8.012305305782354,
          4.395955096788144,
          8.386036892676934,
          6.015426403598623,
          5.40185699938287,
          4.079687627611336,
          1.414973347970818,
          5.74225209751243,
          7.061744361081631,
          3.534914104429867,
          8.882405211819089,
          4.077186154085897,
          5.53581926075779,
          5.4225635778643
         ]
        }
       ],
       "layout": {
        "coloraxis": {
         "colorbar": {
          "ticktext": [
           "1k",
           "10k",
           "100k",
           "1M",
           "10M"
          ],
          "tickvals": [
           3,
           4,
           5,
           6,
           7
          ],
          "title": {
           "text": "Log₁₀(Total Cases)"
          }
         },
         "colorscale": [
          [
           0,
           "rgb(255,245,240)"
          ],
          [
           0.125,
           "rgb(254,224,210)"
          ],
          [
           0.25,
           "rgb(252,187,161)"
          ],
          [
           0.375,
           "rgb(252,146,114)"
          ],
          [
           0.5,
           "rgb(251,106,74)"
          ],
          [
           0.625,
           "rgb(239,59,44)"
          ],
          [
           0.75,
           "rgb(203,24,29)"
          ],
          [
           0.875,
           "rgb(165,15,21)"
          ],
          [
           1,
           "rgb(103,0,13)"
          ]
         ]
        },
        "geo": {
         "center": {},
         "domain": {
          "x": [
           0,
           1
          ],
          "y": [
           0,
           1
          ]
         },
         "projection": {
          "type": "natural earth"
         }
        },
        "legend": {
         "tracegroupgap": 0
        },
        "template": {
         "data": {
          "bar": [
           {
            "error_x": {
             "color": "#2a3f5f"
            },
            "error_y": {
             "color": "#2a3f5f"
            },
            "marker": {
             "line": {
              "color": "#E5ECF6",
              "width": 0.5
             },
             "pattern": {
              "fillmode": "overlay",
              "size": 10,
              "solidity": 0.2
             }
            },
            "type": "bar"
           }
          ],
          "barpolar": [
           {
            "marker": {
             "line": {
              "color": "#E5ECF6",
              "width": 0.5
             },
             "pattern": {
              "fillmode": "overlay",
              "size": 10,
              "solidity": 0.2
             }
            },
            "type": "barpolar"
           }
          ],
          "carpet": [
           {
            "aaxis": {
             "endlinecolor": "#2a3f5f",
             "gridcolor": "white",
             "linecolor": "white",
             "minorgridcolor": "white",
             "startlinecolor": "#2a3f5f"
            },
            "baxis": {
             "endlinecolor": "#2a3f5f",
             "gridcolor": "white",
             "linecolor": "white",
             "minorgridcolor": "white",
             "startlinecolor": "#2a3f5f"
            },
            "type": "carpet"
           }
          ],
          "choropleth": [
           {
            "colorbar": {
             "outlinewidth": 0,
             "ticks": ""
            },
            "type": "choropleth"
           }
          ],
          "contour": [
           {
            "colorbar": {
             "outlinewidth": 0,
             "ticks": ""
            },
            "colorscale": [
             [
              0,
              "#0d0887"
             ],
             [
              0.1111111111111111,
              "#46039f"
             ],
             [
              0.2222222222222222,
              "#7201a8"
             ],
             [
              0.3333333333333333,
              "#9c179e"
             ],
             [
              0.4444444444444444,
              "#bd3786"
             ],
             [
              0.5555555555555556,
              "#d8576b"
             ],
             [
              0.6666666666666666,
              "#ed7953"
             ],
             [
              0.7777777777777778,
              "#fb9f3a"
             ],
             [
              0.8888888888888888,
              "#fdca26"
             ],
             [
              1,
              "#f0f921"
             ]
            ],
            "type": "contour"
           }
          ],
          "contourcarpet": [
           {
            "colorbar": {
             "outlinewidth": 0,
             "ticks": ""
            },
            "type": "contourcarpet"
           }
          ],
          "heatmap": [
           {
            "colorbar": {
             "outlinewidth": 0,
             "ticks": ""
            },
            "colorscale": [
             [
              0,
              "#0d0887"
             ],
             [
              0.1111111111111111,
              "#46039f"
             ],
             [
              0.2222222222222222,
              "#7201a8"
             ],
             [
              0.3333333333333333,
              "#9c179e"
             ],
             [
              0.4444444444444444,
              "#bd3786"
             ],
             [
              0.5555555555555556,
              "#d8576b"
             ],
             [
              0.6666666666666666,
              "#ed7953"
             ],
             [
              0.7777777777777778,
              "#fb9f3a"
             ],
             [
              0.8888888888888888,
              "#fdca26"
             ],
             [
              1,
              "#f0f921"
             ]
            ],
            "type": "heatmap"
           }
          ],
          "heatmapgl": [
           {
            "colorbar": {
             "outlinewidth": 0,
             "ticks": ""
            },
            "colorscale": [
             [
              0,
              "#0d0887"
             ],
             [
              0.1111111111111111,
              "#46039f"
             ],
             [
              0.2222222222222222,
              "#7201a8"
             ],
             [
              0.3333333333333333,
              "#9c179e"
             ],
             [
              0.4444444444444444,
              "#bd3786"
             ],
             [
              0.5555555555555556,
              "#d8576b"
             ],
             [
              0.6666666666666666,
              "#ed7953"
             ],
             [
              0.7777777777777778,
              "#fb9f3a"
             ],
             [
              0.8888888888888888,
              "#fdca26"
             ],
             [
              1,
              "#f0f921"
             ]
            ],
            "type": "heatmapgl"
           }
          ],
          "histogram": [
           {
            "marker": {
             "pattern": {
              "fillmode": "overlay",
              "size": 10,
              "solidity": 0.2
             }
            },
            "type": "histogram"
           }
          ],
          "histogram2d": [
           {
            "colorbar": {
             "outlinewidth": 0,
             "ticks": ""
            },
            "colorscale": [
             [
              0,
              "#0d0887"
             ],
             [
              0.1111111111111111,
              "#46039f"
             ],
             [
              0.2222222222222222,
              "#7201a8"
             ],
             [
              0.3333333333333333,
              "#9c179e"
             ],
             [
              0.4444444444444444,
              "#bd3786"
             ],
             [
              0.5555555555555556,
              "#d8576b"
             ],
             [
              0.6666666666666666,
              "#ed7953"
             ],
             [
              0.7777777777777778,
              "#fb9f3a"
             ],
             [
              0.8888888888888888,
              "#fdca26"
             ],
             [
              1,
              "#f0f921"
             ]
            ],
            "type": "histogram2d"
           }
          ],
          "histogram2dcontour": [
           {
            "colorbar": {
             "outlinewidth": 0,
             "ticks": ""
            },
            "colorscale": [
             [
              0,
              "#0d0887"
             ],
             [
              0.1111111111111111,
              "#46039f"
             ],
             [
              0.2222222222222222,
              "#7201a8"
             ],
             [
              0.3333333333333333,
              "#9c179e"
             ],
             [
              0.4444444444444444,
              "#bd3786"
             ],
             [
              0.5555555555555556,
              "#d8576b"
             ],
             [
              0.6666666666666666,
              "#ed7953"
             ],
             [
              0.7777777777777778,
              "#fb9f3a"
             ],
             [
              0.8888888888888888,
              "#fdca26"
             ],
             [
              1,
              "#f0f921"
             ]
            ],
            "type": "histogram2dcontour"
           }
          ],
          "mesh3d": [
           {
            "colorbar": {
             "outlinewidth": 0,
             "ticks": ""
            },
            "type": "mesh3d"
           }
          ],
          "parcoords": [
           {
            "line": {
             "colorbar": {
              "outlinewidth": 0,
              "ticks": ""
             }
            },
            "type": "parcoords"
           }
          ],
          "pie": [
           {
            "automargin": true,
            "type": "pie"
           }
          ],
          "scatter": [
           {
            "fillpattern": {
             "fillmode": "overlay",
             "size": 10,
             "solidity": 0.2
            },
            "type": "scatter"
           }
          ],
          "scatter3d": [
           {
            "line": {
             "colorbar": {
              "outlinewidth": 0,
              "ticks": ""
             }
            },
            "marker": {
             "colorbar": {
              "outlinewidth": 0,
              "ticks": ""
             }
            },
            "type": "scatter3d"
           }
          ],
          "scattercarpet": [
           {
            "marker": {
             "colorbar": {
              "outlinewidth": 0,
              "ticks": ""
             }
            },
            "type": "scattercarpet"
           }
          ],
          "scattergeo": [
           {
            "marker": {
             "colorbar": {
              "outlinewidth": 0,
              "ticks": ""
             }
            },
            "type": "scattergeo"
           }
          ],
          "scattergl": [
           {
            "marker": {
             "colorbar": {
              "outlinewidth": 0,
              "ticks": ""
             }
            },
            "type": "scattergl"
           }
          ],
          "scattermapbox": [
           {
            "marker": {
             "colorbar": {
              "outlinewidth": 0,
              "ticks": ""
             }
            },
            "type": "scattermapbox"
           }
          ],
          "scatterpolar": [
           {
            "marker": {
             "colorbar": {
              "outlinewidth": 0,
              "ticks": ""
             }
            },
            "type": "scatterpolar"
           }
          ],
          "scatterpolargl": [
           {
            "marker": {
             "colorbar": {
              "outlinewidth": 0,
              "ticks": ""
             }
            },
            "type": "scatterpolargl"
           }
          ],
          "scatterternary": [
           {
            "marker": {
             "colorbar": {
              "outlinewidth": 0,
              "ticks": ""
             }
            },
            "type": "scatterternary"
           }
          ],
          "surface": [
           {
            "colorbar": {
             "outlinewidth": 0,
             "ticks": ""
            },
            "colorscale": [
             [
              0,
              "#0d0887"
             ],
             [
              0.1111111111111111,
              "#46039f"
             ],
             [
              0.2222222222222222,
              "#7201a8"
             ],
             [
              0.3333333333333333,
              "#9c179e"
             ],
             [
              0.4444444444444444,
              "#bd3786"
             ],
             [
              0.5555555555555556,
              "#d8576b"
             ],
             [
              0.6666666666666666,
              "#ed7953"
             ],
             [
              0.7777777777777778,
              "#fb9f3a"
             ],
             [
              0.8888888888888888,
              "#fdca26"
             ],
             [
              1,
              "#f0f921"
             ]
            ],
            "type": "surface"
           }
          ],
          "table": [
           {
            "cells": {
             "fill": {
              "color": "#EBF0F8"
             },
             "line": {
              "color": "white"
             }
            },
            "header": {
             "fill": {
              "color": "#C8D4E3"
             },
             "line": {
              "color": "white"
             }
            },
            "type": "table"
           }
          ]
         },
         "layout": {
          "annotationdefaults": {
           "arrowcolor": "#2a3f5f",
           "arrowhead": 0,
           "arrowwidth": 1
          },
          "autotypenumbers": "strict",
          "coloraxis": {
           "colorbar": {
            "outlinewidth": 0,
            "ticks": ""
           }
          },
          "colorscale": {
           "diverging": [
            [
             0,
             "#8e0152"
            ],
            [
             0.1,
             "#c51b7d"
            ],
            [
             0.2,
             "#de77ae"
            ],
            [
             0.3,
             "#f1b6da"
            ],
            [
             0.4,
             "#fde0ef"
            ],
            [
             0.5,
             "#f7f7f7"
            ],
            [
             0.6,
             "#e6f5d0"
            ],
            [
             0.7,
             "#b8e186"
            ],
            [
             0.8,
             "#7fbc41"
            ],
            [
             0.9,
             "#4d9221"
            ],
            [
             1,
             "#276419"
            ]
           ],
           "sequential": [
            [
             0,
             "#0d0887"
            ],
            [
             0.1111111111111111,
             "#46039f"
            ],
            [
             0.2222222222222222,
             "#7201a8"
            ],
            [
             0.3333333333333333,
             "#9c179e"
            ],
            [
             0.4444444444444444,
             "#bd3786"
            ],
            [
             0.5555555555555556,
             "#d8576b"
            ],
            [
             0.6666666666666666,
             "#ed7953"
            ],
            [
             0.7777777777777778,
             "#fb9f3a"
            ],
            [
             0.8888888888888888,
             "#fdca26"
            ],
            [
             1,
             "#f0f921"
            ]
           ],
           "sequentialminus": [
            [
             0,
             "#0d0887"
            ],
            [
             0.1111111111111111,
             "#46039f"
            ],
            [
             0.2222222222222222,
             "#7201a8"
            ],
            [
             0.3333333333333333,
             "#9c179e"
            ],
            [
             0.4444444444444444,
             "#bd3786"
            ],
            [
             0.5555555555555556,
             "#d8576b"
            ],
            [
             0.6666666666666666,
             "#ed7953"
            ],
            [
             0.7777777777777778,
             "#fb9f3a"
            ],
            [
             0.8888888888888888,
             "#fdca26"
            ],
            [
             1,
             "#f0f921"
            ]
           ]
          },
          "colorway": [
           "#636efa",
           "#EF553B",
           "#00cc96",
           "#ab63fa",
           "#FFA15A",
           "#19d3f3",
           "#FF6692",
           "#B6E880",
           "#FF97FF",
           "#FECB52"
          ],
          "font": {
           "color": "#2a3f5f"
          },
          "geo": {
           "bgcolor": "white",
           "lakecolor": "white",
           "landcolor": "#E5ECF6",
           "showlakes": true,
           "showland": true,
           "subunitcolor": "white"
          },
          "hoverlabel": {
           "align": "left"
          },
          "hovermode": "closest",
          "mapbox": {
           "style": "light"
          },
          "paper_bgcolor": "white",
          "plot_bgcolor": "#E5ECF6",
          "polar": {
           "angularaxis": {
            "gridcolor": "white",
            "linecolor": "white",
            "ticks": ""
           },
           "bgcolor": "#E5ECF6",
           "radialaxis": {
            "gridcolor": "white",
            "linecolor": "white",
            "ticks": ""
           }
          },
          "scene": {
           "xaxis": {
            "backgroundcolor": "#E5ECF6",
            "gridcolor": "white",
            "gridwidth": 2,
            "linecolor": "white",
            "showbackground": true,
            "ticks": "",
            "zerolinecolor": "white"
           },
           "yaxis": {
            "backgroundcolor": "#E5ECF6",
            "gridcolor": "white",
            "gridwidth": 2,
            "linecolor": "white",
            "showbackground": true,
            "ticks": "",
            "zerolinecolor": "white"
           },
           "zaxis": {
            "backgroundcolor": "#E5ECF6",
            "gridcolor": "white",
            "gridwidth": 2,
            "linecolor": "white",
            "showbackground": true,
            "ticks": "",
            "zerolinecolor": "white"
           }
          },
          "shapedefaults": {
           "line": {
            "color": "#2a3f5f"
           }
          },
          "ternary": {
           "aaxis": {
            "gridcolor": "white",
            "linecolor": "white",
            "ticks": ""
           },
           "baxis": {
            "gridcolor": "white",
            "linecolor": "white",
            "ticks": ""
           },
           "bgcolor": "#E5ECF6",
           "caxis": {
            "gridcolor": "white",
            "linecolor": "white",
            "ticks": ""
           }
          },
          "title": {
           "x": 0.05
          },
          "xaxis": {
           "automargin": true,
           "gridcolor": "white",
           "linecolor": "white",
           "ticks": "",
           "title": {
            "standoff": 15
           },
           "zerolinecolor": "white",
           "zerolinewidth": 2
          },
          "yaxis": {
           "automargin": true,
           "gridcolor": "white",
           "linecolor": "white",
           "ticks": "",
           "title": {
            "standoff": 15
           },
           "zerolinecolor": "white",
           "zerolinewidth": 2
          }
         }
        },
        "title": {
         "text": "Total COVID-19 Cases by Country (Log Scale) as of 2023-04-12"
        }
       }
      },
      "image/png": "[encoded data removed]",
      "text/html": [
       "<div>                            <div id=\"b5c19c00-ae76-449a-a9db-d9b6e77ffe18\" class=\"plotly-graph-div\" style=\"height:525px; width:100%;\"></div>            <script type=\"text/javascript\">                require([\"plotly\"], function(Plotly) {                    window.PLOTLYENV=window.PLOTLYENV || {};                                    if (document.getElementById(\"b5c19c00-ae76-449a-a9db-d9b6e77ffe18\")) {                    Plotly.newPlot(                        \"b5c19c00-ae76-449a-a9db-d9b6e77ffe18\",                        [{\"coloraxis\":\"coloraxis\",\"customdata\":[[211630.0,5.325577231940418],[13074358.0,7.116420372575431],[333897.0,5.523612517019933],[271613.0,5.4339505524021],[8326.0,3.9204364065507584],[47939.0,4.6806889704775365],[105353.0,5.022646906957838],[3904.0,3.591509808994654],[9106.0,3.959327645972171],[10044957.0,7.001948081979968],[448707.0,5.651962844745154],[44114.0,4.644576438852238],[295846519.0,8.47106646363167],[11153745.0,7.047420711308598],[6046956.0,6.7815368085221435],[830367.0,5.919270081348938],[37491.0,4.573927024542379],[696614.0,5.842992198318671],[2038091.0,6.309223571189321],[107332.0,5.030729221980151],[994037.0,5.9974025499876245],[4782863.0,6.679687941148748],[70782.0,4.849922829800399],[28014.0,4.4473751243144495],[18860.0,4.27554168840131],[62650.0,4.796921075330169],[1195880.0,6.077687602769044],[11885.0,4.074999186064199],[402636.0,5.60491260289833],[329837.0,5.518299371728511],[37319254.0,7.571932953752875],[7305.0,3.8636202202703154],[284632.0,5.454283724427734],[1301475.0,6.114435830173778],[22056.0,4.343526753097717],[53719.0,4.730127919511864],[138726.0,5.142157864089315],[124834.0,5.096332886639306],[4634277.0,6.665981988879106],[63281.0,4.8012733334961055],[31472.0,4.497924342575262],[15367.0,4.186589091272407],[7696.0,3.8862650590297565],[5272767.0,6.722038580576672],[99239252.0,7.996683482187266],[6363058.0,6.803665881898042],[9093.0,3.9587071910872846],[25185.0,4.40114195519373],[7042.0,3.8476960207341655],[1226315.0,6.0886020404843775],[88308.0,4.946000048973673],[1271276.0,6.1042398481656575],[1112853.0,6.0464378008979205],[45798.0,4.66084651276524],[655664.0,5.816681338873837],[4636282.0,6.666169843883274],[95944.0,4.982017820672663],[3409630.0,6.532707253574121],[15690.0,4.195622943586937],[15760.0,4.197556213153536],[660937.0,5.820160064846742],[1059529.0,6.02511284813281],[515913.0,5.712576471383935],[201785.0,5.304888879148899],[17130.0,4.233757362965511],[10189.0,4.008131562240663],[617247.0,5.790458987811565],[74520.0,4.872272846224205],[500731.0,5.699604479180381],[248182442.0,8.394771053503407],[183460522.0,8.263542624870897],[34658.0,4.5398034973846775],[1923.0,3.28397928423848],[68914.0,4.838307458556552],[1468123.0,6.1667624424898],[38791479.0,7.5887363382309845],[98041.0,4.991407732325726],[78219.0,4.893312259362749],[48981.0,4.6900276474699645],[12622.0,4.101128175838757],[1836791.0,6.264059742745366],[38368891.0,7.583979246695297],[171527.0,5.234332491889426],[20550.0,4.312811826212088],[5972760.0,6.776175064090827],[11971.0,4.078130430802564],[19683.0,4.294091292476962],[202163.0,5.305701673677285],[51017.0,4.707714916803127],[1244812.0,6.095103766268897],[35235.0,4.546974275833287],[38280.0,4.582971929104806],[9350.0,3.9708116108725178],[73119.0,4.864030243209204],[34202.0,4.534051502651675],[418961061.0,8.62217366072602],[472467.0,5.67437148010793],[2199764.0,6.342376090369706],[209191.0,5.320542995996305],[44768172.0,7.650969361380966],[6752606.0,6.82947141031284],[7597982.0,6.880698260354535],[2465545.0,6.391912933483801],[1708435.0,6.232598460057036],[38008.0,4.579875017411149],[4817255.0,6.682799636175697],[25715384.0,7.410193013892804],[154602.0,5.189215107844567],[33523927.0,7.5253548862869],[66391.0,4.822109210162377],[1746997.0,6.242292159198978],[1501450.0,6.176510874273492],[342992.0,5.53528399060728],[5014.0,3.7001843296221977],[273764.0,5.437376337774306],[665527.0,5.823165679214377],[206849.0,5.315653425664059],[218037.0,5.3385301978813935],[977172.0,5.989971014155152],[1235177.0,6.091729196150596],[34490.0,4.537693194367391],[8090.0,3.9079485216122722],[507229.0,5.705204075670072],[21460.0,4.331629717629932],[1316086.0,6.1192842692970215],[2291726.0,6.3601626919160275],[97087190.0,7.98716193145983],[319959.0,5.505094330774415],[68105.0,4.833178997268102],[88620.0,4.947531745695593],[5052337.0,6.703492311075523],[185894.0,5.269265372510234],[33133.0,4.520260760495895],[118214.0,5.072668912777894],[16013.0,4.204472703648964],[229479.0,5.360742948690671],[63562.0,4.803197553974273],[298099.0,5.474360519155038],[42008.0,4.623332005279001],[7553646.0,6.8781566278506485],[25703.0,4.409983816226542],[618741.0,5.791508894885037],[16178.0,4.208924831080264],[1007943.0,6.003435973096206],[289292.0,5.461336423955988],[1403.0,3.1470576710283598],[1272733.0,6.104737304840785],[233334.0,5.367978026134199],[634105.0,5.8021611776686655],[171222.0,5.23355956562593],[5393.0,3.7318304202881625],[1001951.0,6.000846483058213],[8610372.0,6.9350219149910854],[80052.0,4.903372186700208],[2217047.0,6.3457748999815555],[15682.0,4.195401449520219],[9513.0,3.978317496746751],[266675.0,5.425982303762787],[747.0,2.873320601815399],[123493229.0,8.091643146352359],[347672.0,5.541169715891349],[13773.0,4.139028547485683],[1481760.0,6.170777866857683],[13860132.0,7.141767366394015],[399449.0,5.601461338262114],[1580021.0,6.198662859184493],[5997.0,3.7779340488377793],[703228.0,5.847096154448255],[1033781.0,6.014428545948344],[46837.0,4.670589069893688],[735759.0,5.866735583209883],[4492891.0,6.65252588249849],[4083678.0,6.611051490433392],[4.0,0.6020599913279624],[6504340.0,6.813203234963699],[5577825.0,6.746464884486043],[1110017.0,6.045329630092654],[502436.0,5.701080749441756],[494595.0,5.694249721642372],[3380891.0,6.529031169327848],[22727542.0,7.3565524690043524],[133194.0,5.124484661579165],[5478.0,3.7386220279179425],[2166.0,3.3356584522893016],[6598.0,3.8194123112093252],[30028.0,4.477526407194348],[12280.0,4.089198366805149],[3426.0,3.5347873586294916],[9601.0,3.982316469692065],[16675.0,4.222065842588586],[23873.0,4.377906998042317],[6542.0,3.815710539788963],[836442.0,5.922435831785858],[88978.0,4.949282639682136],[2524670.0,6.402204619466512],[50937.0,4.70703336304981],[7762.0,3.8899736384039962],[2298689.0,6.3614802175849485],[11030.0,4.042575512440191],[1865828.0,6.27087160613406],[1342156.0,6.1278029972053325],[24575.0,4.390493526504173],[27334.0,4.436703190083218],[4072533.0,6.609864612111262],[68328230.0,7.8346001707418695],[30918060.0,7.490212235643206],[18368.0,4.26406187071788],[13798747.0,7.139839651930809],[672092.0,5.8274287259668665],[63922.0,4.80565035478177],[82495.0,4.916427626874599],[2702703.0,6.4317983237053955],[4399085.0,6.643362353582755],[57423.0,4.759085877979562],[17786.0,4.250078287979645],[42973.0,4.633195673394554],[4728967.0,6.674766283402631],[23423.0,4.369642518405259],[39469.0,4.5962561231022905],[5.0,0.6989700043360189],[16814.0,4.225671043081144],[191007.0,5.2810492835077625],[1152033.0,6.0614649196363555],[17004677.0,7.230568387021466],[6565.0,3.8172347304254983],[2779.0,3.443888546777372],[170515.0,5.231762589373604],[5484936.0,6.739171564452389],[1058979.0,6.024887347950216],[24330379.0,7.386148874090154],[102873924.0,8.012305305782354],[24886.0,4.395955096788144],[243241063.0,8.386036892676934],[1036159.0,6.015426403598623],[252265.0,5.40185699938287],[12014.0,4.079687627611336],[26.0,1.414973347970818],[552398.0,5.74225209751243],[11527745.0,7.061744361081631],[3427.0,3.534914104429867],[762790388.0,8.882405211819089],[11945.0,4.077186154085897],[343415.0,5.53581926075779],[264584.0,5.4225635778643]],\"geo\":\"geo\",\"hovertemplate\":\"\\u003cb\\u003e%{hovertext}\\u003c\\u002fb\\u003e\\u003cbr\\u003e\\u003cbr\\u003eiso_code=%{location}\\u003cbr\\u003etotal_cases=%{customdata[0]}\\u003cextra\\u003e\\u003c\\u002fextra\\u003e\",\"hovertext\":[\"Afghanistan\",\"Africa\",\"Albania\",\"Algeria\",\"American Samoa\",\"Andorra\",\"Angola\",\"Anguilla\",\"Antigua and Barbuda\",\"Argentina\",\"Armenia\",\"Aruba\",\"Asia\",\"Australia\",\"Austria\",\"Azerbaijan\",\"Bahamas\",\"Bahrain\",\"Bangladesh\",\"Barbados\",\"Belarus\",\"Belgium\",\"Belize\",\"Benin\",\"Bermuda\",\"Bhutan\",\"Bolivia\",\"Bonaire Sint Eustatius and Saba\",\"Bosnia and Herzegovina\",\"Botswana\",\"Brazil\",\"British Virgin Islands\",\"Brunei\",\"Bulgaria\",\"Burkina Faso\",\"Burundi\",\"Cambodia\",\"Cameroon\",\"Canada\",\"Cape Verde\",\"Cayman Islands\",\"Central African Republic\",\"Chad\",\"Chile\",\"China\",\"Colombia\",\"Comoros\",\"Congo\",\"Cook Islands\",\"Costa Rica\",\"Cote d'Ivoire\",\"Croatia\",\"Cuba\",\"Curacao\",\"Cyprus\",\"Czechia\",\"Democratic Republic of Congo\",\"Denmark\",\"Djibouti\",\"Dominica\",\"Dominican Republic\",\"Ecuador\",\"Egypt\",\"El Salvador\",\"Equatorial Guinea\",\"Eritrea\",\"Estonia\",\"Eswatini\",\"Ethiopia\",\"Europe\",\"European Union\",\"Faeroe Islands\",\"Falkland Islands\",\"Fiji\",\"Finland\",\"France\",\"French Guiana\",\"French Polynesia\",\"Gabon\",\"Gambia\",\"Georgia\",\"Germany\",\"Ghana\",\"Gibraltar\",\"Greece\",\"Greenland\",\"Grenada\",\"Guadeloupe\",\"Guam\",\"Guatemala\",\"Guernsey\",\"Guinea\",\"Guinea-Bissau\",\"Guyana\",\"Haiti\",\"High income\",\"Honduras\",\"Hungary\",\"Iceland\",\"India\",\"Indonesia\",\"Iran\",\"Iraq\",\"Ireland\",\"Isle of Man\",\"Israel\",\"Italy\",\"Jamaica\",\"Japan\",\"Jersey\",\"Jordan\",\"Kazakhstan\",\"Kenya\",\"Kiribati\",\"Kosovo\",\"Kuwait\",\"Kyrgyzstan\",\"Laos\",\"Latvia\",\"Lebanon\",\"Lesotho\",\"Liberia\",\"Libya\",\"Liechtenstein\",\"Lithuania\",\"Low income\",\"Lower middle income\",\"Luxembourg\",\"Madagascar\",\"Malawi\",\"Malaysia\",\"Maldives\",\"Mali\",\"Malta\",\"Marshall Islands\",\"Martinique\",\"Mauritania\",\"Mauritius\",\"Mayotte\",\"Mexico\",\"Micronesia (country)\",\"Moldova\",\"Monaco\",\"Mongolia\",\"Montenegro\",\"Montserrat\",\"Morocco\",\"Mozambique\",\"Myanmar\",\"Namibia\",\"Nauru\",\"Nepal\",\"Netherlands\",\"New Caledonia\",\"New Zealand\",\"Nicaragua\",\"Niger\",\"Nigeria\",\"Niue\",\"North America\",\"North Macedonia\",\"Northern Mariana Islands\",\"Norway\",\"Oceania\",\"Oman\",\"Pakistan\",\"Palau\",\"Palestine\",\"Panama\",\"Papua New Guinea\",\"Paraguay\",\"Peru\",\"Philippines\",\"Pitcairn\",\"Poland\",\"Portugal\",\"Puerto Rico\",\"Qatar\",\"Reunion\",\"Romania\",\"Russia\",\"Rwanda\",\"Saint Barthelemy\",\"Saint Helena\",\"Saint Kitts and Nevis\",\"Saint Lucia\",\"Saint Martin (French part)\",\"Saint Pierre and Miquelon\",\"Saint Vincent and the Grenadines\",\"Samoa\",\"San Marino\",\"Sao Tome and Principe\",\"Saudi Arabia\",\"Senegal\",\"Serbia\",\"Seychelles\",\"Sierra Leone\",\"Singapore\",\"Sint Maarten (Dutch part)\",\"Slovakia\",\"Slovenia\",\"Solomon Islands\",\"Somalia\",\"South Africa\",\"South America\",\"South Korea\",\"South Sudan\",\"Spain\",\"Sri Lanka\",\"Sudan\",\"Suriname\",\"Sweden\",\"Switzerland\",\"Syria\",\"Tajikistan\",\"Tanzania\",\"Thailand\",\"Timor\",\"Togo\",\"Tokelau\",\"Tonga\",\"Trinidad and Tobago\",\"Tunisia\",\"Turkey\",\"Turks and Caicos Islands\",\"Tuvalu\",\"Uganda\",\"Ukraine\",\"United Arab Emirates\",\"United Kingdom\",\"United States\",\"United States Virgin Islands\",\"Upper middle income\",\"Uruguay\",\"Uzbekistan\",\"Vanuatu\",\"Vatican\",\"Venezuela\",\"Vietnam\",\"Wallis and Futuna\",\"World\",\"Yemen\",\"Zambia\",\"Zimbabwe\"],\"locations\":[\"AFG\",\"OWID_AFR\",\"ALB\",\"DZA\",\"ASM\",\"AND\",\"AGO\",\"AIA\",\"ATG\",\"ARG\",\"ARM\",\"ABW\",\"OWID_ASI\",\"AUS\",\"AUT\",\"AZE\",\"BHS\",\"BHR\",\"BGD\",\"BRB\",\"BLR\",\"BEL\",\"BLZ\",\"BEN\",\"BMU\",\"BTN\",\"BOL\",\"BES\",\"BIH\",\"BWA\",\"BRA\",\"VGB\",\"BRN\",\"BGR\",\"BFA\",\"BDI\",\"KHM\",\"CMR\",\"CAN\",\"CPV\",\"CYM\",\"CAF\",\"TCD\",\"CHL\",\"CHN\",\"COL\",\"COM\",\"COG\",\"COK\",\"CRI\",\"CIV\",\"HRV\",\"CUB\",\"CUW\",\"CYP\",\"CZE\",\"COD\",\"DNK\",\"DJI\",\"DMA\",\"DOM\",\"ECU\",\"EGY\",\"SLV\",\"GNQ\",\"ERI\",\"EST\",\"SWZ\",\"ETH\",\"OWID_EUR\",\"OWID_EUN\",\"FRO\",\"FLK\",\"FJI\",\"FIN\",\"FRA\",\"GUF\",\"PYF\",\"GAB\",\"GMB\",\"GEO\",\"DEU\",\"GHA\",\"GIB\",\"GRC\",\"GRL\",\"GRD\",\"GLP\",\"GUM\",\"GTM\",\"GGY\",\"GIN\",\"GNB\",\"GUY\",\"HTI\",\"OWID_HIC\",\"HND\",\"HUN\",\"ISL\",\"IND\",\"IDN\",\"IRN\",\"IRQ\",\"IRL\",\"IMN\",\"ISR\",\"ITA\",\"JAM\",\"JPN\",\"JEY\",\"JOR\",\"KAZ\",\"KEN\",\"KIR\",\"OWID_KOS\",\"KWT\",\"KGZ\",\"LAO\",\"LVA\",\"LBN\",\"LSO\",\"LBR\",\"LBY\",\"LIE\",\"LTU\",\"OWID_LIC\",\"OWID_LMC\",\"LUX\",\"MDG\",\"MWI\",\"MYS\",\"MDV\",\"MLI\",\"MLT\",\"MHL\",\"MTQ\",\"MRT\",\"MUS\",\"MYT\",\"MEX\",\"FSM\",\"MDA\",\"MCO\",\"MNG\",\"MNE\",\"MSR\",\"MAR\",\"MOZ\",\"MMR\",\"NAM\",\"NRU\",\"NPL\",\"NLD\",\"NCL\",\"NZL\",\"NIC\",\"NER\",\"NGA\",\"NIU\",\"OWID_NAM\",\"MKD\",\"MNP\",\"NOR\",\"OWID_OCE\",\"OMN\",\"PAK\",\"PLW\",\"PSE\",\"PAN\",\"PNG\",\"PRY\",\"PER\",\"PHL\",\"PCN\",\"POL\",\"PRT\",\"PRI\",\"QAT\",\"REU\",\"ROU\",\"RUS\",\"RWA\",\"BLM\",\"SHN\",\"KNA\",\"LCA\",\"MAF\",\"SPM\",\"VCT\",\"WSM\",\"SMR\",\"STP\",\"SAU\",\"SEN\",\"SRB\",\"SYC\",\"SLE\",\"SGP\",\"SXM\",\"SVK\",\"SVN\",\"SLB\",\"SOM\",\"ZAF\",\"OWID_SAM\",\"KOR\",\"SSD\",\"ESP\",\"LKA\",\"SDN\",\"SUR\",\"SWE\",\"CHE\",\"SYR\",\"TJK\",\"TZA\",\"THA\",\"TLS\",\"TGO\",\"TKL\",\"TON\",\"TTO\",\"TUN\",\"TUR\",\"TCA\",\"TUV\",\"UGA\",\"UKR\",\"ARE\",\"GBR\",\"USA\",\"VIR\",\"OWID_UMC\",\"URY\",\"UZB\",\"VUT\",\"VAT\",\"VEN\",\"VNM\",\"WLF\",\"OWID_WRL\",\"YEM\",\"ZMB\",\"ZWE\"],\"name\":\"\",\"z\":[5.325577231940418,7.116420372575431,5.523612517019933,5.4339505524021,3.9204364065507584,4.6806889704775365,5.022646906957838,3.591509808994654,3.959327645972171,7.001948081979968,5.651962844745154,4.644576438852238,8.47106646363167,7.047420711308598,6.7815368085221435,5.919270081348938,4.573927024542379,5.842992198318671,6.309223571189321,5.030729221980151,5.9974025499876245,6.679687941148748,4.849922829800399,4.4473751243144495,4.27554168840131,4.796921075330169,6.077687602769044,4.074999186064199,5.60491260289833,5.518299371728511,7.571932953752875,3.8636202202703154,5.454283724427734,6.114435830173778,4.343526753097717,4.730127919511864,5.142157864089315,5.096332886639306,6.665981988879106,4.8012733334961055,4.497924342575262,4.186589091272407,3.8862650590297565,6.722038580576672,7.996683482187266,6.803665881898042,3.9587071910872846,4.40114195519373,3.8476960207341655,6.0886020404843775,4.946000048973673,6.1042398481656575,6.0464378008979205,4.66084651276524,5.816681338873837,6.666169843883274,4.982017820672663,6.532707253574121,4.195622943586937,4.197556213153536,5.820160064846742,6.02511284813281,5.712576471383935,5.304888879148899,4.233757362965511,4.008131562240663,5.790458987811565,4.872272846224205,5.699604479180381,8.394771053503407,8.263542624870897,4.5398034973846775,3.28397928423848,4.838307458556552,6.1667624424898,7.5887363382309845,4.991407732325726,4.893312259362749,4.6900276474699645,4.101128175838757,6.264059742745366,7.583979246695297,5.234332491889426,4.312811826212088,6.776175064090827,4.078130430802564,4.294091292476962,5.305701673677285,4.707714916803127,6.095103766268897,4.546974275833287,4.582971929104806,3.9708116108725178,4.864030243209204,4.534051502651675,8.62217366072602,5.67437148010793,6.342376090369706,5.320542995996305,7.650969361380966,6.82947141031284,6.880698260354535,6.391912933483801,6.232598460057036,4.579875017411149,6.682799636175697,7.410193013892804,5.189215107844567,7.5253548862869,4.822109210162377,6.242292159198978,6.176510874273492,5.53528399060728,3.7001843296221977,5.437376337774306,5.823165679214377,5.315653425664059,5.3385301978813935,5.989971014155152,6.091729196150596,4.537693194367391,3.9079485216122722,5.705204075670072,4.331629717629932,6.1192842692970215,6.3601626919160275,7.98716193145983,5.505094330774415,4.833178997268102,4.947531745695593,6.703492311075523,5.269265372510234,4.520260760495895,5.072668912777894,4.204472703648964,5.360742948690671,4.803197553974273,5.474360519155038,4.623332005279001,6.8781566278506485,4.409983816226542,5.791508894885037,4.208924831080264,6.003435973096206,5.461336423955988,3.1470576710283598,6.104737304840785,5.367978026134199,5.8021611776686655,5.23355956562593,3.7318304202881625,6.000846483058213,6.9350219149910854,4.903372186700208,6.3457748999815555,4.195401449520219,3.978317496746751,5.425982303762787,2.873320601815399,8.091643146352359,5.541169715891349,4.139028547485683,6.170777866857683,7.141767366394015,5.601461338262114,6.198662859184493,3.7779340488377793,5.847096154448255,6.014428545948344,4.670589069893688,5.866735583209883,6.65252588249849,6.611051490433392,0.6020599913279624,6.813203234963699,6.746464884486043,6.045329630092654,5.701080749441756,5.694249721642372,6.529031169327848,7.3565524690043524,5.124484661579165,3.7386220279179425,3.3356584522893016,3.8194123112093252,4.477526407194348,4.089198366805149,3.5347873586294916,3.982316469692065,4.222065842588586,4.377906998042317,3.815710539788963,5.922435831785858,4.949282639682136,6.402204619466512,4.70703336304981,3.8899736384039962,6.3614802175849485,4.042575512440191,6.27087160613406,6.1278029972053325,4.390493526504173,4.436703190083218,6.609864612111262,7.8346001707418695,7.490212235643206,4.26406187071788,7.139839651930809,5.8274287259668665,4.80565035478177,4.916427626874599,6.4317983237053955,6.643362353582755,4.759085877979562,4.250078287979645,4.633195673394554,6.674766283402631,4.369642518405259,4.5962561231022905,0.6989700043360189,4.225671043081144,5.2810492835077625,6.0614649196363555,7.230568387021466,3.8172347304254983,3.443888546777372,5.231762589373604,6.739171564452389,6.024887347950216,7.386148874090154,8.012305305782354,4.395955096788144,8.386036892676934,6.015426403598623,5.40185699938287,4.079687627611336,1.414973347970818,5.74225209751243,7.061744361081631,3.534914104429867,8.882405211819089,4.077186154085897,5.53581926075779,5.4225635778643],\"type\":\"choropleth\"}],                        {\"template\":{\"data\":{\"histogram2dcontour\":[{\"type\":\"histogram2dcontour\",\"colorbar\":{\"outlinewidth\":0,\"ticks\":\"\"},\"colorscale\":[[0.0,\"#0d0887\"],[0.1111111111111111,\"#46039f\"],[0.2222222222222222,\"#7201a8\"],[0.3333333333333333,\"#9c179e\"],[0.4444444444444444,\"#bd3786\"],[0.5555555555555556,\"#d8576b\"],[0.6666666666666666,\"#ed7953\"],[0.7777777777777778,\"#fb9f3a\"],[0.8888888888888888,\"#fdca26\"],[1.0,\"#f0f921\"]]}],\"choropleth\":[{\"type\":\"choropleth\",\"colorbar\":{\"outlinewidth\":0,\"ticks\":\"\"}}],\"histogram2d\":[{\"type\":\"histogram2d\",\"colorbar\":{\"outlinewidth\":0,\"ticks\":\"\"},\"colorscale\":[[0.0,\"#0d0887\"],[0.1111111111111111,\"#46039f\"],[0.2222222222222222,\"#7201a8\"],[0.3333333333333333,\"#9c179e\"],[0.4444444444444444,\"#bd3786\"],[0.5555555555555556,\"#d8576b\"],[0.6666666666666666,\"#ed7953\"],[0.7777777777777778,\"#fb9f3a\"],[0.8888888888888888,\"#fdca26\"],[1.0,\"#f0f921\"]]}],\"heatmap\":[{\"type\":\"heatmap\",\"colorbar\":{\"outlinewidth\":0,\"ticks\":\"\"},\"colorscale\":[[0.0,\"#0d0887\"],[0.1111111111111111,\"#46039f\"],[0.2222222222222222,\"#7201a8\"],[0.3333333333333333,\"#9c179e\"],[0.4444444444444444,\"#bd3786\"],[0.5555555555555556,\"#d8576b\"],[0.6666666666666666,\"#ed7953\"],[0.7777777777777778,\"#fb9f3a\"],[0.8888888888888888,\"#fdca26\"],[1.0,\"#f0f921\"]]}],\"heatmapgl\":[{\"type\":\"heatmapgl\",\"colorbar\":{\"outlinewidth\":0,\"ticks\":\"\"},\"colorscale\":[[0.0,\"#0d0887\"],[0.1111111111111111,\"#46039f\"],[0.2222222222222222,\"#7201a8\"],[0.3333333333333333,\"#9c179e\"],[0.4444444444444444,\"#bd3786\"],[0.5555555555555556,\"#d8576b\"],[0.6666666666666666,\"#ed7953\"],[0.7777777777777778,\"#fb9f3a\"],[0.8888888888888888,\"#fdca26\"],[1.0,\"#f0f921\"]]}],\"contourcarpet\":[{\"type\":\"contourcarpet\",\"colorbar\":{\"outlinewidth\":0,\"ticks\":\"\"}}],\"contour\":[{\"type\":\"contour\",\"colorbar\":{\"outlinewidth\":0,\"ticks\":\"\"},\"colorscale\":[[0.0,\"#0d0887\"],[0.1111111111111111,\"#46039f\"],[0.2222222222222222,\"#7201a8\"],[0.3333333333333333,\"#9c179e\"],[0.4444444444444444,\"#bd3786\"],[0.5555555555555556,\"#d8576b\"],[0.6666666666666666,\"#ed7953\"],[0.7777777777777778,\"#fb9f3a\"],[0.8888888888888888,\"#fdca26\"],[1.0,\"#f0f921\"]]}],\"surface\":[{\"type\":\"surface\",\"colorbar\":{\"outlinewidth\":0,\"ticks\":\"\"},\"colorscale\":[[0.0,\"#0d0887\"],[0.1111111111111111,\"#46039f\"],[0.2222222222222222,\"#7201a8\"],[0.3333333333333333,\"#9c179e\"],[0.4444444444444444,\"#bd3786\"],[0.5555555555555556,\"#d8576b\"],[0.6666666666666666,\"#ed7953\"],[0.7777777777777778,\"#fb9f3a\"],[0.8888888888888888,\"#fdca26\"],[1.0,\"#f0f921\"]]}],\"mesh3d\":[{\"type\":\"mesh3d\",\"colorbar\":{\"outlinewidth\":0,\"ticks\":\"\"}}],\"scatter\":[{\"fillpattern\":{\"fillmode\":\"overlay\",\"size\":10,\"solidity\":0.2},\"type\":\"scatter\"}],\"parcoords\":[{\"type\":\"parcoords\",\"line\":{\"colorbar\":{\"outlinewidth\":0,\"ticks\":\"\"}}}],\"scatterpolargl\":[{\"type\":\"scatterpolargl\",\"marker\":{\"colorbar\":{\"outlinewidth\":0,\"ticks\":\"\"}}}],\"bar\":[{\"error_x\":{\"color\":\"#2a3f5f\"},\"error_y\":{\"color\":\"#2a3f5f\"},\"marker\":{\"line\":{\"color\":\"#E5ECF6\",\"width\":0.5},\"pattern\":{\"fillmode\":\"overlay\",\"size\":10,\"solidity\":0.2}},\"type\":\"bar\"}],\"scattergeo\":[{\"type\":\"scattergeo\",\"marker\":{\"colorbar\":{\"outlinewidth\":0,\"ticks\":\"\"}}}],\"scatterpolar\":[{\"type\":\"scatterpolar\",\"marker\":{\"colorbar\":{\"outlinewidth\":0,\"ticks\":\"\"}}}],\"histogram\":[{\"marker\":{\"pattern\":{\"fillmode\":\"overlay\",\"size\":10,\"solidity\":0.2}},\"type\":\"histogram\"}],\"scattergl\":[{\"type\":\"scattergl\",\"marker\":{\"colorbar\":{\"outlinewidth\":0,\"ticks\":\"\"}}}],\"scatter3d\":[{\"type\":\"scatter3d\",\"line\":{\"colorbar\":{\"outlinewidth\":0,\"ticks\":\"\"}},\"marker\":{\"colorbar\":{\"outlinewidth\":0,\"ticks\":\"\"}}}],\"scattermapbox\":[{\"type\":\"scattermapbox\",\"marker\":{\"colorbar\":{\"outlinewidth\":0,\"ticks\":\"\"}}}],\"scatterternary\":[{\"type\":\"scatterternary\",\"marker\":{\"colorbar\":{\"outlinewidth\":0,\"ticks\":\"\"}}}],\"scattercarpet\":[{\"type\":\"scattercarpet\",\"marker\":{\"colorbar\":{\"outlinewidth\":0,\"ticks\":\"\"}}}],\"carpet\":[{\"aaxis\":{\"endlinecolor\":\"#2a3f5f\",\"gridcolor\":\"white\",\"linecolor\":\"white\",\"minorgridcolor\":\"white\",\"startlinecolor\":\"#2a3f5f\"},\"baxis\":{\"endlinecolor\":\"#2a3f5f\",\"gridcolor\":\"white\",\"linecolor\":\"white\",\"minorgridcolor\":\"white\",\"startlinecolor\":\"#2a3f5f\"},\"type\":\"carpet\"}],\"table\":[{\"cells\":{\"fill\":{\"color\":\"#EBF0F8\"},\"line\":{\"color\":\"white\"}},\"header\":{\"fill\":{\"color\":\"#C8D4E3\"},\"line\":{\"color\":\"white\"}},\"type\":\"table\"}],\"barpolar\":[{\"marker\":{\"line\":{\"color\":\"#E5ECF6\",\"width\":0.5},\"pattern\":{\"fillmode\":\"overlay\",\"size\":10,\"solidity\":0.2}},\"type\":\"barpolar\"}],\"pie\":[{\"automargin\":true,\"type\":\"pie\"}]},\"layout\":{\"autotypenumbers\":\"strict\",\"colorway\":[\"#636efa\",\"#EF553B\",\"#00cc96\",\"#ab63fa\",\"#FFA15A\",\"#19d3f3\",\"#FF6692\",\"#B6E880\",\"#FF97FF\",\"#FECB52\"],\"font\":{\"color\":\"#2a3f5f\"},\"hovermode\":\"closest\",\"hoverlabel\":{\"align\":\"left\"},\"paper_bgcolor\":\"white\",\"plot_bgcolor\":\"#E5ECF6\",\"polar\":{\"bgcolor\":\"#E5ECF6\",\"angularaxis\":{\"gridcolor\":\"white\",\"linecolor\":\"white\",\"ticks\":\"\"},\"radialaxis\":{\"gridcolor\":\"white\",\"linecolor\":\"white\",\"ticks\":\"\"}},\"ternary\":{\"bgcolor\":\"#E5ECF6\",\"aaxis\":{\"gridcolor\":\"white\",\"linecolor\":\"white\",\"ticks\":\"\"},\"baxis\":{\"gridcolor\":\"white\",\"linecolor\":\"white\",\"ticks\":\"\"},\"caxis\":{\"gridcolor\":\"white\",\"linecolor\":\"white\",\"ticks\":\"\"}},\"coloraxis\":{\"colorbar\":{\"outlinewidth\":0,\"ticks\":\"\"}},\"colorscale\":{\"sequential\":[[0.0,\"#0d0887\"],[0.1111111111111111,\"#46039f\"],[0.2222222222222222,\"#7201a8\"],[0.3333333333333333,\"#9c179e\"],[0.4444444444444444,\"#bd3786\"],[0.5555555555555556,\"#d8576b\"],[0.6666666666666666,\"#ed7953\"],[0.7777777777777778,\"#fb9f3a\"],[0.8888888888888888,\"#fdca26\"],[1.0,\"#f0f921\"]],\"sequentialminus\":[[0.0,\"#0d0887\"],[0.1111111111111111,\"#46039f\"],[0.2222222222222222,\"#7201a8\"],[0.3333333333333333,\"#9c179e\"],[0.4444444444444444,\"#bd3786\"],[0.5555555555555556,\"#d8576b\"],[0.6666666666666666,\"#ed7953\"],[0.7777777777777778,\"#fb9f3a\"],[0.8888888888888888,\"#fdca26\"],[1.0,\"#f0f921\"]],\"diverging\":[[0,\"#8e0152\"],[0.1,\"#c51b7d\"],[0.2,\"#de77ae\"],[0.3,\"#f1b6da\"],[0.4,\"#fde0ef\"],[0.5,\"#f7f7f7\"],[0.6,\"#e6f5d0\"],[0.7,\"#b8e186\"],[0.8,\"#7fbc41\"],[0.9,\"#4d9221\"],[1,\"#276419\"]]},\"xaxis\":{\"gridcolor\":\"white\",\"linecolor\":\"white\",\"ticks\":\"\",\"title\":{\"standoff\":15},\"zerolinecolor\":\"white\",\"automargin\":true,\"zerolinewidth\":2},\"yaxis\":{\"gridcolor\":\"white\",\"linecolor\":\"white\",\"ticks\":\"\",\"title\":{\"standoff\":15},\"zerolinecolor\":\"white\",\"automargin\":true,\"zerolinewidth\":2},\"scene\":{\"xaxis\":{\"backgroundcolor\":\"#E5ECF6\",\"gridcolor\":\"white\",\"linecolor\":\"white\",\"showbackground\":true,\"ticks\":\"\",\"zerolinecolor\":\"white\",\"gridwidth\":2},\"yaxis\":{\"backgroundcolor\":\"#E5ECF6\",\"gridcolor\":\"white\",\"linecolor\":\"white\",\"showbackground\":true,\"ticks\":\"\",\"zerolinecolor\":\"white\",\"gridwidth\":2},\"zaxis\":{\"backgroundcolor\":\"#E5ECF6\",\"gridcolor\":\"white\",\"linecolor\":\"white\",\"showbackground\":true,\"ticks\":\"\",\"zerolinecolor\":\"white\",\"gridwidth\":2}},\"shapedefaults\":{\"line\":{\"color\":\"#2a3f5f\"}},\"annotationdefaults\":{\"arrowcolor\":\"#2a3f5f\",\"arrowhead\":0,\"arrowwidth\":1},\"geo\":{\"bgcolor\":\"white\",\"landcolor\":\"#E5ECF6\",\"subunitcolor\":\"white\",\"showland\":true,\"showlakes\":true,\"lakecolor\":\"white\"},\"title\":{\"x\":0.05},\"mapbox\":{\"style\":\"light\"}}},\"geo\":{\"domain\":{\"x\":[0.0,1.0],\"y\":[0.0,1.0]},\"projection\":{\"type\":\"natural earth\"},\"center\":{}},\"coloraxis\":{\"colorbar\":{\"title\":{\"text\":\"Log₁₀(Total Cases)\"},\"tickvals\":[3,4,5,6,7],\"ticktext\":[\"1k\",\"10k\",\"100k\",\"1M\",\"10M\"]},\"colorscale\":[[0.0,\"rgb(255,245,240)\"],[0.125,\"rgb(254,224,210)\"],[0.25,\"rgb(252,187,161)\"],[0.375,\"rgb(252,146,114)\"],[0.5,\"rgb(251,106,74)\"],[0.625,\"rgb(239,59,44)\"],[0.75,\"rgb(203,24,29)\"],[0.875,\"rgb(165,15,21)\"],[1.0,\"rgb(103,0,13)\"]]},\"legend\":{\"tracegroupgap\":0},\"title\":{\"text\":\"Total COVID-19 Cases by Country (Log Scale) as of 2023-04-12\"}},                        {\"responsive\": true}                    ).then(function(){\n",
       "                            \n",
       "var gd = document.getElementById('b5c19c00-ae76-449a-a9db-d9b6e77ffe18');\n",
       "var x = new MutationObserver(function (mutations, observer) {{\n",
       "        var display = window.getComputedStyle(gd).display;\n",
       "        if (!display || display === 'none') {{\n",
       "            console.log([gd, 'removed!']);\n",
       "            Plotly.purge(gd);\n",
       "            observer.disconnect();\n",
       "        }}\n",
       "}});\n",
       "\n",
       "// Listen for the removal of the full notebook cells\n",
       "var notebookContainer = gd.closest('#notebook-container');\n",
       "if (notebookContainer) {{\n",
       "    x.observe(notebookContainer, {childList: true});\n",
       "}}\n",
       "\n",
       "// Listen for the clearing of the current output cell\n",
       "var outputEl = gd.closest('.output');\n",
       "if (outputEl) {{\n",
       "    x.observe(outputEl, {childList: true});\n",
       "}}\n",
       "\n",
       "                        })                };                });            </script>        </div>"
      ]
     },
     "metadata": {},
     "output_type": "display_data"
    },
    {
     "data": {
      "text/plain": [
       "<Figure size 640x480 with 0 Axes>"
      ]
     },
     "metadata": {},
     "output_type": "display_data"
    }
   ],
   "source": [
    "import numpy as np\n",
    "import plotly.express as px\n",
    "\n",
    "# Filter the latest data\n",
    "latest_date = df[\"date\"].max()\n",
    "latest_data = df[df[\"date\"] == latest_date]\n",
    "\n",
    "# Prepare the data: keep only valid entries\n",
    "choropleth_data = latest_data[[\"iso_code\", \"location\", \"total_cases\"]].dropna()\n",
    "choropleth_data = choropleth_data[choropleth_data[\"total_cases\"] > 0] \n",
    "\n",
    "# log-transformed column for better visualization\n",
    "choropleth_data[\"log_total_cases\"] = np.log10(choropleth_data[\"total_cases\"])\n",
    "\n",
    "# Create the choropleth map\n",
    "fig = px.choropleth(\n",
    "    choropleth_data,\n",
    "    locations=\"iso_code\",\n",
    "    color=\"log_total_cases\",  \n",
    "    hover_name=\"location\",\n",
    "    hover_data={\"total_cases\": True, \"log_total_cases\": False},\n",
    "    title=f\"Total COVID-19 Cases by Country (Log Scale) as of {latest_date.date()}\",\n",
    "    color_continuous_scale=\"Reds\",\n",
    "    projection=\"natural earth\"\n",
    ")\n",
    "\n",
    "fig.update_layout(coloraxis_colorbar=dict(\n",
    "    title=\"Log₁₀(Total Cases)\",\n",
    "    tickvals=[3, 4, 5, 6, 7],\n",
    "    ticktext=[\"1k\", \"10k\", \"100k\", \"1M\", \"10M\"]\n",
    "))\n",
    "plt.savefig(\"plots/Total_COVID-19_Cases_by_Country.png\", format=\"png\", bbox_inches=\"tight\")\n",
    "\n",
    "fig.show()\n"
   ]
  },
  {
   "cell_type": "markdown",
   "id": "9deff5bc-3219-4fd6-8bb1-28856794fa26",
   "metadata": {},
   "source": [
    "## Step 14: Top 10 Countries by Total Cases\n",
    "\n",
    "This horizontal bar chart ranks the top 10 countries based on confirmed cases.\n",
    "\n",
    "- The **Hign income regions** lead globally in total reported COVID-19 cases.\n"
   ]
  },
  {
   "cell_type": "code",
   "execution_count": 77,
   "id": "00516ca5-3030-4171-862a-550931237b44",
   "metadata": {},
   "outputs": [
    {
     "data": {
      "image/png": "[encoded data removed]",
      "text/plain": [
       "<Figure size 1000x600 with 1 Axes>"
      ]
     },
     "metadata": {},
     "output_type": "display_data"
    }
   ],
   "source": [
    "# Top 10 regions by Total Cases (Bar Plot)\n",
    "top_cases = latest_data.sort_values(\"total_cases\", ascending=False).head(10)\n",
    "\n",
    "plt.figure(figsize=(10, 6))\n",
    "sns.barplot(x=\"total_cases\", y=\"location\", data=top_cases, palette=\"Reds_r\")\n",
    "plt.title(\"Top 10 Countries by Total COVID-19 Cases\")\n",
    "plt.xlabel(\"Total Cases\")\n",
    "plt.ylabel(\"Country\")\n",
    "plt.tight_layout()\n",
    "plt.savefig(\"plots/top_10_countries_by_total_cases.png\", format=\"png\", bbox_inches=\"tight\")\n",
    "plt.show()\n"
   ]
  },
  {
   "cell_type": "markdown",
   "id": "6efb041e-040f-4a67-afea-4ed2097b9f30",
   "metadata": {},
   "source": [
    "## Key Insights & Project Summary\n",
    "\n",
    "This notebook analyzed global COVID-19 trends using data from **Our World in Data**. I explored confirmed cases, deaths, and vaccination rollouts across selected countries and globally. Below are key takeaways:\n",
    "\n",
    "###  Key Insights\n",
    "\n",
    "1. **United States** had the highest number of confirmed COVID-19 cases, followed closely by **India** and **Brazil**.\n",
    "2. **India** experienced significant case spikes, especially during mid-2021, corresponding with the Delta variant wave.\n",
    "3. **Germany** and the **USA** had early and aggressive vaccination campaigns, both surpassing 60% fully vaccinated early on.\n",
    "4. **Kenya** showed lower case numbers and vaccination coverage, highlighting global vaccine access inequality.\n",
    "5. **Death rates** decreased over time across countries, likely due to increased vaccination rates and improved treatment protocols.\n"
   ]
  }
 ],
 "metadata": {
  "kernelspec": {
   "display_name": "Python 3 (ipykernel)",
   "language": "python",
   "name": "python3"
  },
  "language_info": {
   "codemirror_mode": {
    "name": "ipython",
    "version": 3
   },
   "file_extension": ".py",
   "mimetype": "text/x-python",
   "name": "python",
   "nbconvert_exporter": "python",
   "pygments_lexer": "ipython3",
   "version": "3.12.0"
  }
 },
 "nbformat": 4,
 "nbformat_minor": 5
}
